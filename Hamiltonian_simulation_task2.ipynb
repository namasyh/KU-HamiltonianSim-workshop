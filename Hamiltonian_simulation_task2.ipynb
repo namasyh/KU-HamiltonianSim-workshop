{
 "cells": [
  {
   "cell_type": "code",
   "execution_count": 1,
   "metadata": {},
   "outputs": [],
   "source": [
    "### '''Installation'''\n",
    "# !pip install qiskit[visualization]==1.1.0\n",
    "# # Use the following if you are on MacOS/zsh\n",
    "# #!pip install 'qiskit[visualization]'==1.1.0\n",
    "# !pip install qiskit_aer\n",
    "# !pip install qiskit_ibm_runtime\n",
    "# !pip install matplotlib\n",
    "# !pip install pylatexenc\n",
    "# !pip install prototype-zne"
   ]
  },
  {
   "cell_type": "markdown",
   "metadata": {},
   "source": [
    "# 1-D Schrodinger equation\n",
    " Schrodinger equation:\n",
    "$$-i\\hbar \\frac{d \\ket{\\psi}}{dt} = H \\ket{\\psi}  $$\n",
    "\n",
    "The Hamiltonian H of the system is:\n",
    "$$T+V = \\frac{p^2}{2m} + V$$\n",
    "where p is momentum operator, V is potential operator and K is Kinetic Energy operator.\n",
    "\n",
    "Its evolution is given by equation: $$|\\psi(x,t)\\rangle =  e^{-iHt} |\\psi(x,0)\\rangle$$\n",
    "\n",
    "The unitary operator is $U=e^{-iHt}$\n",
    "\n",
    "## Trotterization of Hamiltonian H\n",
    "\n",
    "T and V are non commuting operators, i,e $[T,V]\\neq 0$\n",
    "\n",
    "Hence, Hamiltonian H need to be decomposed using trotterization\n",
    "\n",
    "### Lie Trotter Method\n",
    "$$e^{i(A+B)n\\Delta t} \\approx (e^{iA\\Delta t} e^{iB\\Delta t})^n $$\n",
    "Lie-Trotter decomposition of H\n",
    "$$\n",
    "U =e^{-i\\hat{H}t} \\approx \\left(e^{-i\\hat{T}\\\\Delta t} e^{-\\hat{V}\\Delta t}\\right)^n\n",
    "$$\n",
    "\n",
    "\n",
    "<!-- <details>\n",
    "<summary>Lie-Trotter decomposition of H  </summary>\n",
    "\n",
    "inside text\n",
    "</details> -->\n",
    "\n",
    "### Suzuki Trotter Method\n",
    "$$e^{i(A+B)n\\Delta t} \\approx (e^{i\\frac{A}{2}\\Delta t} e^{iB\\Delta t} e^{i\\frac{A}{2}\\Delta t})^n $$\n",
    "Suzuki-Trotter decomposition of H\n",
    "\n",
    "$$e^{-i\\hat{H}t/\\hbar} \\approx  \\left( e^{-i\\hat{V} \\Delta t/2} e^{-iT\\Delta t} e^{-i\\hat{V} \\Delta t/2} \\right)^n\n",
    "$$\n",
    "<!-- <details>\n",
    "<summary> Suzuki-Trotter decomposition of H</summary>\n",
    "inside text\n",
    "</details> -->\n",
    "Since $\\hat{T}=\\frac{\\hat{p}^2 }{2m}$ which is in momentum space, for applying operator T, the  basis need to be transformed to momentum space and revert back to computation space after applying the gate. We can achieve by using Fourier Transform: Quantum Fourier transform for quantum computers. So the operation would become:\n",
    "\n",
    "$$e^{-i\\hat{V} \\Delta t/2} QFT e^{-iT\\Delta t} QFT_{inv} e^{-i\\hat{V} \\Delta t/2}$$\n"
   ]
  },
  {
   "cell_type": "code",
   "execution_count": 2,
   "metadata": {},
   "outputs": [
    {
     "ename": "IndentationError",
     "evalue": "unexpected indent (1014970707.py, line 2)",
     "output_type": "error",
     "traceback": [
      "\u001b[1;36m  Cell \u001b[1;32mIn[2], line 2\u001b[1;36m\u001b[0m\n\u001b[1;33m    Schrodinger equation:\u001b[0m\n\u001b[1;37m    ^\u001b[0m\n\u001b[1;31mIndentationError\u001b[0m\u001b[1;31m:\u001b[0m unexpected indent\n"
     ]
    }
   ],
   "source": []
  },
  {
   "cell_type": "code",
   "execution_count": null,
   "metadata": {},
   "outputs": [],
   "source": []
  }
 ],
 "metadata": {
  "kernelspec": {
   "display_name": "QGSS",
   "language": "python",
   "name": "python3"
  },
  "language_info": {
   "codemirror_mode": {
    "name": "ipython",
    "version": 3
   },
   "file_extension": ".py",
   "mimetype": "text/x-python",
   "name": "python",
   "nbconvert_exporter": "python",
   "pygments_lexer": "ipython3",
   "version": "3.12.4"
  }
 },
 "nbformat": 4,
 "nbformat_minor": 2
}
