{
<<<<<<< HEAD:Hamiltonian_simulation_Solution.ipynb
 "cells": [
  {
   "cell_type": "code",
   "execution_count": 2,
   "metadata": {},
   "outputs": [],
   "source": [
    "### '''Installation'''\n",
    "# !pip install qiskit[visualization]==1.1.0\n",
    "# # Use the following if you are on MacOS/zsh\n",
    "# #!pip install 'qiskit[visualization]'==1.1.0\n",
    "# !pip install qiskit_aer\n",
    "# !pip install qiskit_ibm_runtime\n",
    "# !pip install matplotlib\n",
    "# !pip install pylatexenc\n",
    "# !pip install prototype-zne"
   ]
  },
  {
   "cell_type": "markdown",
   "metadata": {},
   "source": [
    "# 1-D Schrodinger equation\n",
    " Schrodinger equation:\n",
    "$$-i\\hbar \\frac{d \\ket{\\psi}}{dt} = H \\ket{\\psi}  $$\n",
    "\n",
    "The Hamiltonian H of the system is:\n",
    "$$T+V = \\frac{p^2}{2m} + V$$\n",
    "where p is momentum operator, V is potential operator and K is Kinetic Energy operator.\n",
    "\n",
    "Its evolution is given by equation: $$|\\psi(x,t)\\rangle =  e^{-iHt} |\\psi(x,0)\\rangle$$\n",
    "\n",
    "The unitary operator is $U=e^{-iHt}$\n",
    "\n"
   ]
  },
  {
   "cell_type": "markdown",
   "metadata": {},
   "source": [
    "## Trotterization of Hamiltonian H\n",
    "\n",
    "T and V are non commuting operators, i,e $[T,V]\\neq 0$\n",
    "\n",
    "Hence, Hamiltonian H need to be decomposed using trotterization\n",
    "\n",
    "### Lie Trotter Method\n",
    "$$e^{i(A+B)n\\Delta t} \\approx (e^{iA\\Delta t} e^{iB\\Delta t})^n $$\n",
    "Lie-Trotter decomposition of H\n",
    "$$\n",
    "U =e^{-i\\hat{H}t} \\approx \\left(e^{-i\\hat{T}\\\\Delta t} e^{-\\hat{V}\\Delta t}\\right)^n\n",
    "$$\n",
    "\n",
    "\n",
    "<!-- <details>\n",
    "<summary>Lie-Trotter decomposition of H  </summary>\n",
    "\n",
    "inside text\n",
    "</details> -->\n",
    "\n",
    "### Suzuki Trotter Method\n",
    "$$e^{i(A+B)n\\Delta t} \\approx (e^{i\\frac{A}{2}\\Delta t} e^{iB\\Delta t} e^{i\\frac{A}{2}\\Delta t})^n $$\n",
    "Suzuki-Trotter decomposition of H\n",
    "\n",
    "$$e^{-i\\hat{H}t/\\hbar} \\approx  \\left( e^{-i\\hat{V} \\Delta t/2} e^{-iT\\Delta t} e^{-i\\hat{V} \\Delta t/2} \\right)^n\n",
    "$$\n",
    "<!-- <details>\n",
    "<summary> Suzuki-Trotter decomposition of H</summary>\n",
    "inside text\n",
    "</details> -->\n",
    "Since $\\hat{T}=\\frac{\\hat{p}^2 }{2m}$ which is in momentum space, for applying operator T, the  basis need to be transformed to momentum space and revert back to computation space after applying the gate. We can achieve by using Fourier Transform: Quantum Fourier transform for quantum computers. So the operation would become:\n",
    "\n",
    "$$e^{-i\\hat{V} \\Delta t/2} QFT e^{-iT\\Delta t} QFT_{inv} e^{-i\\hat{V} \\Delta t/2}$$\n"
   ]
  },
  {
   "cell_type": "markdown",
   "metadata": {},
   "source": [
    "We have $\\hat{T} = \\frac{\\hat{p}^2 }{2 }$(let m=1 for simplicity), we can write $\\hat{p}$ as :\n",
    "$$\n",
    "\\hat{p} = -\\sqrt{\\frac{1}{2^{2n-3} } \\frac{\\phi}{\\Delta t}} \\left(1 + \\sum_{j=1}^{n} 2^{n-j} \\hat{Z_j}\\right)\n",
    "$$\n",
    "\n",
    "The whole equation $e^{i\\hat{p}^2\\Delta t}$ becomes\n",
    "$$\n",
    "e^{i\\hat{p}^2\\Delta t} = exp\\left(\\frac{i\\phi}{2^{2n-3}} \\left(1 + \\sum_{j=1}^{n} 2^{n-j} \\hat{Z_{j}}\\right)^2\\right)\n",
    "$$\n"
   ]
  },
  {
   "cell_type": "markdown",
   "metadata": {},
   "source": [
    "## Free Particle: V=0\n",
    "$$U = QFT e^{-iT\\Delta t} QFT_{inv} $$\n",
    "\n"
   ]
  },
  {
   "cell_type": "code",
   "execution_count": 3,
   "metadata": {},
   "outputs": [],
   "source": [
    "# import of required libraries and modules\n",
    "from math import pi\n",
    "import numpy as np\n",
    "import matplotlib.pyplot as plt\n",
    "from qiskit import QuantumCircuit, ClassicalRegister, QuantumRegister\n",
    "from qiskit.visualization import plot_histogram, plot_distribution\n",
    "from qiskit.circuit.library import QFT\n",
    "from qiskit.primitives import StatevectorSampler,Sampler,Estimator"
   ]
  },
  {
   "cell_type": "markdown",
   "metadata": {},
   "source": [
    "### Initial wavefunction\n",
    "For now, We will be working on a Gaussian stationary wavefunction with no initial kinetic energy $k_0=0$:\n",
    "$$\\psi(x,t_{0}) = \\frac{1}{\\sigma\\sqrt{2\\pi}} e^{-\\frac{1}{2}\\left(\\frac{x-x_{0}}{\\sigma}\\right)^{2}} e^{i\\hbar k_{0}x}$$\n",
    "\n",
    "Since $k_0=0$, we can exclude the last term and $\\psi$ becomes:\n",
    "$$\\psi(x,t_{0}) = \\frac{1}{\\sigma\\sqrt{2\\pi}} e^{-\\frac{1}{2}\\left(\\frac{x-x_{0}}{\\sigma}\\right)^{2}}"
   ]
  },
  {
   "cell_type": "code",
   "execution_count": 4,
   "metadata": {},
   "outputs": [
    {
     "data": {
      "image/png": "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",
      "text/plain": [
       "<Figure size 640x480 with 1 Axes>"
      ]
     },
     "metadata": {},
     "output_type": "display_data"
=======
  "nbformat": 4,
  "nbformat_minor": 0,
  "metadata": {
    "colab": {
      "provenance": [],
      "authorship_tag": "ABX9TyNbHGjY07v7Yu3m1YoFHwnP",
      "include_colab_link": true
    },
    "kernelspec": {
      "name": "python3",
      "display_name": "Python 3"
    },
    "language_info": {
      "name": "python"
>>>>>>> 8c075d00cdb4cd3c36513f7512c93bdb1372cd22:Hamiltonian_simulation_task1.ipynb
    }
  },
  "cells": [
    {
      "cell_type": "markdown",
      "metadata": {
        "id": "view-in-github",
        "colab_type": "text"
      },
      "source": [
        "<a href=\"https://colab.research.google.com/github/namasyh/KU-HamiltonianSim-workshop/blob/master/Hamiltonian_simulation_task1.ipynb\" target=\"_parent\"><img src=\"https://colab.research.google.com/assets/colab-badge.svg\" alt=\"Open In Colab\"/></a>"
      ]
    },
    {
      "cell_type": "code",
      "execution_count": null,
      "metadata": {
        "id": "S0WV30x1zn_6"
      },
      "outputs": [],
      "source": [
        "### '''Installation'''\n",
        "!pip install qiskit[visualization]==1.1.0\n",
        "# Use the following if you are on MacOS/zsh\n",
        "#!pip install 'qiskit[visualization]'==1.1.0\n",
        "!pip install qiskit_aer\n",
        "!pip install qiskit_ibm_runtime\n",
        "!pip install matplotlib\n",
        "!pip install pylatexenc\n",
        "!pip install prototype-zne\n",
        "from IPython.display import clear_output\n",
        "clear_output()"
      ]
    },
    {
      "cell_type": "markdown",
      "source": [
        "# 1-D Schrodinger equation\n",
        " Schrodinger equation:\n",
        "$$ i \\hbar \\frac{\\partial}{\\partial t}|\\psi(t)\\rangle = H |\\psi(t)\\rangle $$\n",
        "\n",
        "The Hamiltonian H of the system is:\n",
        "$$T+V = \\frac{p^2}{2m} + V$$\n",
        "where p is momentum operator, V is potential operator and K is Kinetic Energy operator.\n",
        "\n",
        "Its evolution is given by equation: $$|\\psi(x,t)\\rangle =  e^{-iHt} |\\psi(x,0)\\rangle$$\n",
        "\n",
        "The unitary operator is $U=e^{-iHt}$\n",
        "\n"
      ],
      "metadata": {
        "id": "8rJIQIpV0H--"
      }
    },
    {
      "cell_type": "markdown",
      "source": [
        "## Trotterization of Hamiltonian H\n",
        "\n",
        "T and V are non commuting operators, i,e $[T,V]\\neq 0$\n",
        "\n",
        "Hence, Hamiltonian H need to be decomposed using trotterization\n",
        "\n",
        "### Lie Trotter Method\n",
        "$$e^{i(A+B)n\\Delta t} \\approx (e^{iA\\Delta t} e^{iB\\Delta t})^n $$\n",
        "Lie-Trotter decomposition of H\n",
        "$$\n",
        "U =e^{-i\\hat{H}t} \\approx \\left(e^{-i\\hat{T} \\Delta t} e^{-\\hat{V} \\Delta t}\\right)^n\n",
        "$$\n",
        "\n",
        "\n",
        "<!-- <details>\n",
        "<summary>Lie-Trotter decomposition of H  </summary>\n",
        "\n",
        "inside text\n",
        "</details> -->\n",
        "\n",
        "### Suzuki Trotter Method\n",
        "$$e^{i(A+B)n\\Delta t} \\approx (e^{i\\frac{A}{2}\\Delta t} e^{iB\\Delta t} e^{i\\frac{A}{2}\\Delta t})^n $$\n",
        "Suzuki-Trotter decomposition of H\n",
        "\n",
        "$$e^{-i\\hat{H}t/\\hbar} \\approx  \\left( e^{-i\\hat{V} \\Delta t/2} e^{-iT\\Delta t} e^{-i\\hat{V} \\Delta t/2} \\right)^n\n",
        "$$\n",
        "<!-- <details>\n",
        "<summary> Suzuki-Trotter decomposition of H</summary>\n",
        "inside text\n",
        "</details> -->\n",
        "Since $\\hat{T}=\\frac{\\hat{p}^2 }{2m}$ which is in momentum space, for applying operator T, the  basis need to be transformed to momentum space and revert back to computation space after applying the gate. We can achieve by using Fourier Transform: Quantum Fourier transform for quantum computers. So the operation would become:\n",
        "\n",
        "$$e^{-i\\hat{V} \\Delta t/2} QFT e^{-iT\\Delta t} QFT_{inv} e^{-i\\hat{V} \\Delta t/2}$$\n"
      ],
      "metadata": {
        "id": "RzDcR2BV0Kq-"
      }
    },
    {
      "cell_type": "markdown",
      "source": [
        "## Free Particle: V=0\n",
        "$$U = QFT e^{-iT\\Delta t} QFT_{inv} $$"
      ],
      "metadata": {
        "id": "V9od5eCj0WxV"
      }
    },
    {
      "cell_type": "code",
      "source": [
        "# import of required libraries and modules\n",
        "from math import pi\n",
        "import numpy as np\n",
        "import matplotlib.pyplot as plt\n",
        "from qiskit import QuantumCircuit, ClassicalRegister, QuantumRegister\n",
        "from qiskit.visualization import plot_histogram, plot_distribution\n",
        "from qiskit.circuit.library import QFT\n",
        "from qiskit.primitives import StatevectorSampler,Sampler,Estimator"
      ],
      "metadata": {
        "id": "KJEihZ8h0JON"
      },
      "execution_count": null,
      "outputs": []
    },
    {
      "cell_type": "markdown",
      "source": [
        "### Initial wavefunction\n",
        "For now, We will be working on a Gaussian stationary wavefunction with no initial kinetic energy $k_0=0$:\n",
        "$$\\psi(x,t_{0}) = \\frac{1}{\\sigma\\sqrt{2\\pi}} e^{-\\frac{1}{2}\\left(\\frac{x-x_{0}}{\\sigma}\\right)^{2}} e^{i\\hbar k_{0}x}$$\n",
        "\n",
        "Since $k_0=0$, we can exclude the last term and $\\psi$ becomes:\n",
        "$$\\psi(x,t_{0}) = \\frac{1}{\\sigma\\sqrt{2\\pi}} e^{-\\frac{1}{2}\\left(\\frac{x-x_{0}}{\\sigma}\\right)^{2}}$$"
      ],
      "metadata": {
        "id": "4Yb1tlma0i2M"
      }
    },
    {
      "cell_type": "code",
      "source": [
        "# Preparing the Gaussian-shaped histogram that will be used in the initialisation\n",
        "\n",
        "x = np.linspace(-4,4, num=64)\n",
        "\n",
        "\n",
        "\n",
        "'''wavefunction: guassian wavepacket'''\n",
        "x0=0\n",
        "sigma=0.4\n",
        "hk=0\n",
        "\n",
        "unnormalized_wavefunction =\n",
        "\n",
        "\n",
        "\n",
        "\n",
        "wavefunction =\n",
        "\n",
        "\n",
        "# plt.plot(x,wavefunction)\n",
        "# plt.show()\n"
      ],
      "metadata": {
        "id": "tXJh3hjB0igL"
      },
      "execution_count": 1,
      "outputs": []
    },
    {
      "cell_type": "code",
      "source": [
        "## Do not edit this\n",
        "\n",
        "def initialization(qc,wavefunction,q_reg):\n",
        "\n",
        "    qc.initialize(wavefunction, q_reg)\n",
        "\n",
        "def apply_QFT(qc,q_reg):\n",
        "    qc.append(QFT(n),q_reg)\n",
        "\n",
        "\n",
        "def Time_Evolution(qc,n,q_reg,aux_reg):\n",
        "    # qc=QuantumCircuit(q_reg,aux_reg)\n",
        "    for i in range (n):\n",
        "        qc.p(phi/(2**(i+n-3)),q_reg[n-i-1])\n",
        "    for i in range (n):\n",
        "        for j in range (i+1,n):\n",
        "            qc.cx(q_reg[n-j-1], aux_reg[0])\n",
        "            qc.cx(q_reg[n-i-1], aux_reg[0])\n",
        "            qc.p(phi* (2**(2-i-j)), aux_reg[0])\n",
        "            qc.cx(q_reg[n-i-1], aux_reg[0])\n",
        "            qc.cx(q_reg[n-j-1], aux_reg[0])\n",
        "            # qc.barrier()\n",
        "    # qc.to_gate()\n",
        "\n",
        "\n",
        "def apply_invQFT(qc,q_reg):\n",
        "    qc.append(QFT(n,inverse=True),q_reg)\n",
        "\n",
        "\n",
        "def display_histogram(qc,q_reg,clas_reg,plot=False,hist=True):\n",
        "    qc.measure(q_reg,clas_reg)\n",
        "    keys = range(0,2**n)\n",
        "    counts= {key: 0 for key in keys}\n",
        "    qc_counts= Sampler().run(qc, shots=1024).result().quasi_dists[0]\n",
        "    for key, value in qc_counts.items():\n",
        "        if key in counts:\n",
        "            counts[key] = value*100\n",
        "    keys = list(counts.keys())\n",
        "    values = list(counts.values())\n",
        "    if plot:\n",
        "        plt.plot(keys,values)\n",
        "    if hist:\n",
        "        display(plot_histogram(counts,bar_labels=False))\n"
      ],
      "metadata": {
        "id": "kkiTq-jR0gDK"
      },
      "execution_count": null,
      "outputs": []
    },
    {
      "cell_type": "code",
      "source": [
        "phi = 0.3  # function of time step\n",
        "n=6\n",
        "q_reg=QuantumRegister(6)\n",
        "aux_reg=QuantumRegister(1)\n",
        "clas_reg = ClassicalRegister(6)\n",
        "qc=QuantumCircuit(aux_reg,q_reg,clas_reg)\n",
        "initialization(qc,wavefunction,q_reg)\n",
        "\n",
        "initial_qc=qc.copy()\n",
        "display_histogram(initial_qc,q_reg,clas_reg)\n",
        "\n"
      ],
      "metadata": {
        "colab": {
          "base_uri": "https://localhost:8080/",
          "height": 437
        },
        "id": "jYlicBFY0oRW",
        "outputId": "5750e52b-9fb2-4418-cbeb-99c99dc69277"
      },
      "execution_count": null,
      "outputs": [
        {
          "output_type": "display_data",
          "data": {
            "text/plain": [
              "<Figure size 640x480 with 1 Axes>"
            ],
            "image/png": "iVBORw0KGgoAAAANSUhEUgAAAkUAAAGkCAYAAAA/jlF7AAAAOXRFWHRTb2Z0d2FyZQBNYXRwbG90bGliIHZlcnNpb24zLjcuMSwgaHR0cHM6Ly9tYXRwbG90bGliLm9yZy/bCgiHAAAACXBIWXMAAA9hAAAPYQGoP6dpAABRxUlEQVR4nO3dd1iV9f8/8OdhDwH3QEDAhYoDQVAciCO3mJmWmrthU61MSzNXjtLskw1NE82szzf9uM0swcyVI1dmhqai4sIBTtZ5/v7wOvePw3CgCNjzcV1el7xf93i/7/PmnOe5z31uTCQJERERkX85m4LugIiIiEhhoFAkIiIiAoUiEREREQAKRSIiIiIAFIpEREREACgUiYiIiABQKBIREREBANgVdAcKgtlsRkJCAtzc3GAymQq6OyIiInIXSOLKlSvw9PSEjc2DP6/zrwxFCQkJ8Pb2LuhuiIiISB6cOHECXl5eD3y7/8pQ5ObmBuDWQXV3dy/g3oiIiMjdSE5Ohre3t/E6/qD9K0OR5SMzd3d3hSIREZEiJr8ufdGF1iIiIiJQKBIREREBoFAkIiIiAkChSERERASAQpGIiIgIAIUiEREREQAKRSIiIiIAFIpEREREACgUiYiIiABQKBIREREBoFAkIiIiAkChSERERASAQpGIiIgIAIUiEREREQAKRSIiIiIAFIpEREREACgUiYiIiABQKBIREREBoFAkIiIiAkChSERERASAQpGIiIgIAIUiEREREQAKRSIiIiIAFIpEREREACgUiYiIiABQKBIREREBoFAkIiIiAkChSERERASAQpGIiIgIAIUiEREREQAKRSIiIiIAALuC7oCISF75jlht9fOxyR0KqCci8ijQmSIRERERKBSJiIiIAFAoEhEREQGgUCQiIiICQKFIREREBIBCkYiIiAgAhSIRERERAApFIiIiIgB080YReYTp5o4ici90pkhEREQECkUiIiIiABSKRERERAAoFImIiIgAUCgSERERAaBQJCIiIgJAoUhEREQEgEKRiIiICACFIhEREREACkUiIiIiABSKRERERAAoFImIiIgAUCgSERERAaBQJCIiIgJAoUhEREQEgEKRiIiICACFIhEREREACkUiIiIiABSKRERERAAoFImIiIgAUCgSERERAaBQJCIiIgJAoUhEREQEQCEMRZ9//jnq1KkDd3d3uLu7o1GjRvjhhx8AABcvXsQrr7yC6tWrw9nZGT4+Pnj11VeRlJRUwL0WERGRos6uoDuQlZeXFyZPnoyqVauCJObPn4+oqCjs3r0bJJGQkIAPP/wQNWvWxPHjx/HCCy8gISEBixcvLuiui4iISBFW6EJRp06drH6eOHEiPv/8c2zbtg0DBw7EkiVLjFrlypUxceJE9O7dG+np6bCzK3TDERERkSKiUKeIjIwMfP/997h27RoaNWqU4zJJSUlwd3e/bSBKSUlBSkqK8XNycjIAIC0tDWlpaQAAGxsb2NraIiMjA2az2VjW0p6eng6SRrutrS1sbGxybbds18LSv/T09Ltqt7e3h9lsRkZGhtFmMplgZ2eXa3tufdeYNKZHdUxZWdbNOiaLzNsprGN6FB8njUljepBjyk+FMhTt378fjRo1ws2bN1GsWDEsXboUNWvWzLZcYmIixo8fj+eee+6225s0aRLGjh2brX3dunVwcXEBAPj4+CAoKAj79u1DfHy8sUz16tUREBCA7du34/z580Z7vXr1UKlSJWzcuBFXrlwx2hs1aoSyZcti3bp1Vg9eZGQknJ2dsWbNGqs+tG/fHjdu3EBsbKzRZmdnhw4dOiAxMRFbt2412t3c3NCiRQucOHECe/bsMdrLlCmD8PBwxMXF4dChQ0a7xqQxPepjyio9PT3LmKyf4jIfg8I6pkfxcdKYNKYHNabNmzcjP5mYOYoVEqmpqYiPj0dSUhIWL16MOXPm4JdffrEKRsnJyWjdujVKliyJFStWwN7ePtft5XSmyNvbG4mJiXB3dwegJK4xaUxFcUx+I62fxI9Oam81pqqj11nV48Y/VujH9Cg+ThqTxvSgxnTx4kWUKlXK+JToQSuUoSirVq1aoXLlypg1axYA4MqVK2jTpg1cXFywatUqODk53dP2kpOT4eHhkW8HVUQeDt8Rq61+Pja5wz3VRaRoye/X70L3lfycmM1m40xPcnIyHnvsMTg4OGDFihX3HIhEREREclLorikaOXIk2rVrBx8fH1y5cgWLFi3Chg0b8OOPPxqB6Pr161i4cCGSk5ONi6bLlCkDW1vbAu69iIiIFFWFLhSdO3cOffr0wenTp+Hh4YE6dergxx9/ROvWrbFhwwb89ttvAIAqVapYrXf06FH4+voWQI9FRETkUVDoQtHcuXNzrTVv3hxF4BIoERERKYKKxDVFIiIiIvlNoUhEREQECkUiIiIiABSKRERERAAoFImIiIgAUCgSERERAaBQJCIiIgJAoUhEREQEgEKRiIiICACFIhEREREACkUiIiIiABSKRERERAAoFImIiIgAUCgSERERAaBQJCIiIgJAoUhEREQEgEKRiIiICACFIhEREREACkUiIiIiABSKRERERAAoFImIiIgAUCgSERERAaBQJCIiIgJAoUhEREQEgEKRiIiICACFIhEREREACkUiIiIiABSKRERERAAoFImIiIgAUCgSERERAaBQJCIiIgJAoUhEREQEgEKRiIiICACFIhEREREACkUiIiIiABSKRERERAAoFImIiIgAUCgSERERAaBQJCIiIgJAoUhEREQEgEKRiIiICACFIhEREREACkUiIiIiABSKRERERAAoFImIiIgAUCgSERERAaBQJCIiIgJAoUhEREQEgEKRiIiICACFIhEREREACkUiIiIiABSKRERERAAoFImIiIgAUCgSERERAaBQJCIiIgJAoUhEREQEgEKRiIiICACFIhEREREACkUiIiIiABSKRERERAAoFImIiIgAUCgSERERAaBQJCIiIgJAoUhEREQEQCEMRZMmTUKDBg3g5uaGsmXLokuXLjh06FCOy5JEu3btYDKZsGzZsofbUREREXmkFLpQ9Msvv+Cll17Ctm3b8NNPPyEtLQ2PPfYYrl27lm3ZGTNmwGQyFUAvRURE5FFjV9AdyGrt2rVWP0dHR6Ns2bLYtWsXmjVrZrTv2bMH06ZNw86dO1GhQoWH3U0RERF5xBS6UJRVUlISAKBkyZJG2/Xr19GzZ098+umnKF++/B23kZKSgpSUFOPn5ORkAEBaWhrS0tIAADY2NrC1tUVGRgbMZrOxrKU9PT0dJI12W1tb2NjY5Npu2a6Fnd2tQ52enn5X7fb29jCbzcjIyDDaTCYT7Ozscm3Pre8ak8b0qI4pK8u6WcdkkXk7hXVMj+LjpDFpTA9yTPmpUIcis9mMIUOGoHHjxggMDDTahw4divDwcERFRd3VdiZNmoSxY8dma1+3bh1cXFwAAD4+PggKCsK+ffsQHx9vLFO9enUEBARg+/btOH/+vNFer149VKpUCRs3bsSVK1eM9kaNGqFs2bJYt26d1YMXGRkJZ2dnrFmzxqoP7du3x40bNxAbG2u02dnZoUOHDkhMTMTWrVuNdjc3N7Ro0QInTpzAnj17jPYyZcogPDwccXFxVtdfaUwa06M+pqzS09OzjMn6KS7zMSisY3oUHyeNSWN6UGPavHkz8pOJmaNYITN48GD88MMP2LRpE7y8vAAAK1aswOuvv47du3ejWLFiAG4l0aVLl6JLly45bienM0Xe3t5ITEyEu7s7ACVxjUljKopj8htp/SR+dFJ7qzFVHb3Oqh43/rFCP6ZH8XHSmDSmBzWmixcvolSpUkhKSjJevx+kQnum6OWXX8aqVauwceNGIxABQExMDI4cOYLixYtbLf/EE0+gadOm2LBhQ7ZtOTo6wtHRMVu7vb097O3trdpsbW1ha2ubbdncTtfn1p51u3lpt7GxgY1N9mvhc2vPre8ak8Z0r+1FZUxZWb548SDGqsdJY8qtj/farjHl/5gelEIXikjilVdewdKlS7Fhwwb4+flZ1UeMGIFBgwZZtdWuXRsfffQROnXq9DC7KiIiIo+QQheKXnrpJSxatAjLly+Hm5sbzpw5AwDw8PCAs7Mzypcvn+PF1T4+PtkClIiIiMjdKnT3Kfr888+RlJSE5s2bo0KFCsa///73vwXdNREREXmEFbozRXm57rsQXysuIiIiRUShO1MkIiIiUhAUikRERESgUCQiIiICQKFIREREBIBCkYiIiAgAhSIRERERAApFIiIiIgDuIxRt3LjR6i/b5uTEiRPYuHFjXnchIiIi8tDkORRFRkYiOjr6tsssWLAAkZGRed2FiIiIyEOT51B0N3eRNpvNxl+tFhERESnM8vWaori4OHh4eOTnLkREREQeiHv622cDBgyw+nnZsmU4duxYtuUyMjKM64natWt3Xx0UEREReRjuKRRlvobIZDJhz5492LNnT47LmkwmNGjQAB999NH99E9ERETkobinUHT06FEAt64n8vf3x5AhQ/Daa69lW87W1hYlSpSAq6vrg+mliIiISD67p1BUqVIl4//z5s1DUFCQVZuIiIhIUXVPoSizvn37Psh+iIiIiBSoPIcii+3bt2PHjh24fPkyMjIystVNJhNGjx59v7sRERERyVd5DkUXL15Ely5dsHnz5tves0ihSERERIqCPIeiYcOGYdOmTWjevDn69u0LLy8v2Nnd94knERERkQKR5xSzatUqhIaGYv369bprtYiIiBR5eb6j9Y0bN9CsWTMFIhEREXkk5DkU1atXL8e7WYuIiIgURXkORWPGjMGKFSuwbdu2B9kfERERkQKR52uKzpw5gw4dOiAiIgK9evVC/fr14e7unuOyffr0yXMHRURERB6GPIeifv36wWQygSSio6MRHR2d7foikjCZTApFIiIiUujlORTNmzfvQfZDREREpEDpz3yIiIiI4D4utBYRERF5lOT5TFF8fPxdL+vj45PX3YiIiIg8FHkORb6+vnd140aTyYT09PS87kZERETkochzKOrTp0+OoSgpKQl79+7F0aNHERERAV9f3/vpn4iIiMhDkedQFB0dnWuNJKZNm4apU6di7ty5ed2FiIiIyEOTLxdam0wmvPHGG6hVqxbefPPN/NiFiIiIyAOVr98+CwkJQUxMTH7uQkREROSByNdQdOTIEV1kLSIiIkVCnq8pyo3ZbMapU6cQHR2N5cuXo2XLlg96FyIiIiIPXJ5DkY2NzW2/kk8SJUqUwLRp0/K6CxEREZGHJs+hqFmzZjmGIhsbG5QoUQINGjRA//79UbZs2fvqoIiIiMjDkOdQtGHDhgfYDREREZGCpb99JiIiIoIHdKH15s2bsWfPHiQnJ8Pd3R316tVD48aNH8SmRURERB6K+wpFW7ZsQf/+/XH48GEAty6utlxnVLVqVcybNw+NGjW6/16KiIiI5LM8h6IDBw7gsccew/Xr19G6dWtERkaiQoUKOHPmDGJjY7Fu3Tq0adMG27ZtQ82aNR9kn0VEREQeuDyHonHjxiE1NRVr1qxB27ZtrWpvvfUW1q5di86dO2PcuHH47rvv7rujIiIiIvkpzxdab9iwAd26dcsWiCzatm2Lbt26ITY2Ns+dExEREXlY8hyKkpKS4Ofnd9tl/Pz8kJSUlNddiIiIiDw0eQ5Fnp6e2LZt222X+e233+Dp6ZnXXYiIiIg8NHkORZ07d8aGDRswevRo3Lx506p28+ZNjBkzBrGxsYiKirrvToqIiIjktzxfaD169GisWrUK77//PmbNmoXQ0FCUK1cOZ8+exY4dO3D+/Hn4+/tj9OjRD7K/IiIiIvkiz6GoVKlS2LZtG4YPH47vvvsOa9asMWpOTk7o378/pkyZgpIlSz6QjoqIiIjkp/u6eWPp0qXx1VdfYdasWfjrr7+MO1oHBATA3t7+QfVRREREJN/dcyiaOHEirl27hrFjxxrBx97eHrVr1zaWSU1NxTvvvAM3NzeMGDHiwfVWREREJJ/c04XWP//8M959912UKlXqtmeCHBwcUKpUKbzzzju6T5GIiIgUCfcUihYsWIASJUrg5ZdfvuOyL730EkqWLIl58+bluXMiIiIiD8s9haItW7agVatWcHR0vOOyjo6OaNWqFTZv3pznzomIiIg8LPcUihISEuDv73/Xy/v5+eH06dP33CkRERGRh+2eQpGNjQ3S0tLuevm0tDTY2OT5/pAiIiIiD809JRZPT0/88ccfd738H3/8gYoVK95zp0REREQetnsKRU2bNkVMTAyOHTt2x2WPHTuGmJgYNGvWLK99ExEREXlo7ikUvfTSS0hLS0O3bt2QmJiY63IXLlzAk08+ifT0dAwePPi+OykiIiKS3+7p5o3169fHkCFDMGPGDNSsWRMvvPACIiMj4eXlBQA4deoU1q9fj9mzZ+P8+fMYNmwY6tevny8dFxEREXmQ7vmO1tOmTYOTkxM++OADTJw4ERMnTrSqk4StrS1GjhyJCRMmPLCOioiIiOSnew5FJpMJ77//PgYOHIh58+Zhy5YtOHPmDACgfPnyaNy4Mfr164fKlSs/8M6KiIiI5Jc8/0HYypUr60yQiIiIPDIK3U2ENm7ciE6dOsHT0xMmkwnLli3LtszBgwfRuXNneHh4wNXVFQ0aNEB8fPzD76yIiIg8MgpdKLp27Rrq1q2LTz/9NMf6kSNH0KRJEwQEBGDDhg3Yt28fRo8eDScnp4fcUxEREXmU5Pnjs/zSrl07tGvXLtf6O++8g/bt22Pq1KlG252uX0pJSUFKSorxc3JyMoBbd9y23KHbxsYGtra2yMjIgNlsNpa1tKenp4Ok0W5rawsbG5tc27Pe+dvO7tahTk9Pv6t2e3t7mM1mZGRkGG0mkwl2dna5tufWd41JY3pUx5SVZd2sY7LIvJ3COqZH8XHSmDSmBzmm/FToQtHtmM1mrF69GsOHD0ebNm2we/du+Pn5YeTIkejSpUuu602aNAljx47N1r5u3Tq4uLgAAHx8fBAUFIR9+/ZZfRRXvXp1BAQEYPv27Th//rzRXq9ePVSqVAkbN27ElStXjPZGjRqhbNmyWLdundWDFxkZCWdnZ6xZs8aqD+3bt8eNGzcQGxtrtNnZ2aFDhw5ITEzE1q1bjXY3Nze0aNECJ06cwJ49e4z2MmXKIDw8HHFxcTh06JDRrjFpTI/6mLJKT0/PMibrp7jMx6CwjulRfJw0Jo3pQY0pv//IvImZo1ghYzKZsHTpUiPwnDlzBhUqVICLiwsmTJiAyMhIrF27Fm+//TZiY2MRERGR43ZyOlPk7e2NxMREuLu7A1AS15g0pqI4Jr+R1k/iRye1txpT1dHrrOpx4x8r9GN6FB8njUljelBjunjxIkqVKoWkpCTj9ftBKnJnigAgKioKQ4cOBXArPW7ZsgVffPFFrqHI0dERjo6O2drt7e1hb29v1WZrawtbW9tsy+Z2uj639qzbzUu7jY1Njn9QN7f23PquMWlM99peVMaUlclkuu3y9zJWPU4aU259vNd2jSn/x/SgFLoLrW+ndOnSsLOzQ82aNa3aa9SooW+fiYiIyH0pUqHIwcEBDRo0sPpcEgD+/vtvVKpUqYB6JSIiIo+CQvfx2dWrV3H48GHj56NHj2LPnj0oWbIkfHx88Oabb6JHjx5o1qyZcU3RypUrsWHDhoLrtIiIiBR5hS4U7dy5E5GRkcbPw4YNAwD07dsX0dHRePzxx/HFF19g0qRJePXVV1G9enUsWbIETZo0Kagui4iIyCOg0IWi5s2b405fiBswYAAGDBjwkHokIiIi/wZF6poiERERkfyiUCQiIiIChSIRERERAApFIiIiIgAUikREREQAKBSJiIiIAFAoEhEREQGgUCQiIiICQKFIREREBIBCkYiIiAgAhSIRERERAApFIiIiIgAUikREREQAKBSJiIiIAFAoEhEREQGgUCQiIiICQKFIREREBIBCkYiIiAgAhSIRERERAApFIiIiIgAUikREREQAKBSJiIiIAFAoEhEREQGgUCQiIiICQKFIREREBIBCkYiIiAgAhSIRERERAApFIiIiIgAUikREREQAKBSJiIiIAADsCroDIiK58R2x2urnY5M7FKnti0jRojNFIiIiIlAoEhEREQGgUCQiIiICQKFIREREBIBCkYiIiAgAhSIRERERAApFIiIiIgAUikREREQAKBSJiIiIAFAoEhEREQGgUCQiIiICQKFIREREBIBCkYiIiAgAhSIRERERAApFIiIiIgAUikREREQAKBSJiIiIAFAoEhEREQGgUCQiIiICQKFIREREBIBCkYiIiAgAhSIRERERAApFIiIiIgAUikREREQAKBSJiIiIAFAoEhEREQGgUCQiIiICQKFIREREBIBCkYiIiAgAhSIRERERAApFIiIiIgAUikREREQAFMFQlJGRgdGjR8PPzw/Ozs6oXLkyxo8fD5IF3TUREREpwuwKugP3asqUKfj8888xf/581KpVCzt37kT//v3h4eGBV199taC7JyIiIkVUkQtFW7ZsQVRUFDp06AAA8PX1xbfffovt27cXcM9ERESkKCtyoSg8PByzZ8/G33//jWrVqmHv3r3YtGkTpk+fnus6KSkpSElJMX5OTk4GAKSlpSEtLQ0AYGNjA1tbW2RkZMBsNhvLWtrT09OtPqKztbWFjY1Nru2W7VrY2d061Onp6XfVbm9vD7PZjIyMDKPNZDLBzs4u1/bc+q4xaUxFdUxZWcZm6XtWlnWzjinr+pa+51TX46QxaUyFe0z5qciFohEjRiA5ORkBAQHGAZ04cSJ69eqV6zqTJk3C2LFjs7WvW7cOLi4uAAAfHx8EBQVh3759iI+PN5apXr06AgICsH37dpw/f95or1evHipVqoSNGzfiypUrRnujRo1QtmxZrFu3zurBi4yMhLOzM9asWWPVh/bt2+PGjRuIjY012uzs7NChQwckJiZi69atRrubmxtatGiBEydOYM+ePUZ7mTJlEB4ejri4OBw6dMho15g0pqI+pqxPUZYxWMaUVXp6epYx5by+ZUxZrVmzRo+TxqQxFeIxbd68GfnJxCJ2hfJ3332HN998Ex988AFq1aqFPXv2YMiQIZg+fTr69u2b4zo5nSny9vZGYmIi3N3dASiJa0waU2EcU9XR66z6Fjf+Mau++420fhI/Oqm91ZhyW9/S9yqjfsxW1+OkMWlMhXdMFy9eRKlSpZCUlGS8fj9IRe5M0ZtvvokRI0bgqaeeAgDUrl0bx48fx6RJk3INRY6OjnB0dMzWbm9vD3t7e6s2W1tb2NraZls2t9P1ubVn3W5e2m1sbGBjk/0Lgrm159Z3jUljutf2wjam2/U1M8tHYvd6DHKq63HSmHLr4722a0wP7znifhW5r+Rfv3492wG3tbW1SpoiIiIi96rInSnq1KkTJk6cCB8fH9SqVQu7d+/G9OnTMWDAgILumoiIiBRhRS4UffLJJxg9ejRefPFFnDt3Dp6ennj++efx7rvvFnTXREREpAgrcqHIzc0NM2bMwIwZMwq6KyIiIvIIKXLXFImIiIjkB4UiERERESgUiYiIiABQKBIREREBoFAkIiIiAkChSERERASAQpGIiIgIAIUiEREREQAKRSIiIiIAFIpEREREACgUiYiIiABQKBIREREBoFAkIiIiAkChSERERASAQpGIiIgIAIUiEREREQAKRSIiIiIAFIpEREREACgUiYiIiABQKBIREREBoFAkIiIiAkChSERERASAQpGIiIgIAIUiEREREQAKRSIiIiIAFIpEREREACgUiYiIiABQKBIREREBoFAkIiIiAkChSERERASAQpGIiIgIAIUiEREREQAKRSIiIiIAFIpEREREACgUiYiIiABQKBIREREBoFAkIiIiAkChSERERASAQpGIiIgIAIUiEREREQAKRSIiIiIAFIpEREREACgUiYiIiABQKBIREREBoFAkIiIiAkChSERERASAQpGIiIgIAIUiEREREQAKRSIiIiIAFIpEREREACgUiYiIiABQKBIREREBoFAkIiIiAkChSERERASAQpGIiIgIAIUiEREREQAKRSIiIiIAFIpEREREAAB2Bd0BEfn38h2x2urnY5M7FFBPclbY+yciD5bOFImIiIhAoUhEREQEgEKRiIiICACFIhEREREACkUiIiIiAIpwKPr000/h6+sLJycnhIWFYfv27QXdJRERESnCimQo+u9//4thw4ZhzJgx+P3331G3bl20adMG586dK+iuiYiISBFVJEPR9OnT8eyzz6J///6oWbMmvvjiC7i4uOCrr74q6K6JiIhIEVXkbt6YmpqKXbt2YeTIkUabjY0NWrVqha1bt+a4TkpKClJSUoyfk5KSAAAXL15EWlqasQ1bW1tkZGTAbDZbbdvW1hbp6ekgabTb2trCxsYm13bLdi3s7G4d6vT09Ltqt7e3h9lsRkZGhtFmMplgZ2eXa3tufdeYNKbCOiZzynWrfV+8eNFqTFnrFy5csOp71rrld9syptzWt/Q9p7rVmLLUk5OT/5WPk8akMRWWMV28eBEArGoPFIuYU6dOEQC3bNli1f7mm28yNDQ0x3XGjBlDAPqnf/qnf/qnf/r3CPw7cuRIvmSMInemKC9GjhyJYcOGGT9fvnwZlSpVQnx8PDw8PLItn5ycDG9vb5w4cQLu7u4PtV6Q+y7oemHum8amsWvsGrvGXvBjT0pKgo+PD0qWLJmt9iAUuVBUunRp2Nra4uzZs1btZ8+eRfny5XNcx9HREY6OjtnaPTw8cjzoFu7u7gVWL8h9F3S9MPftfuuFuW/5XS/MfcvvemHuW37XC3Pf8rtemPuW3/X83reNTf5cEl3kLrR2cHBAcHAw1q9fb7SZzWasX78ejRo1KsCeiYiISFFW5M4UAcCwYcPQt29fhISEIDQ0FDNmzMC1a9fQv3//gu6aiIiIFFFFMhT16NED58+fx7vvvoszZ86gXr16WLt2LcqVK3dX6zs6OmLMmDE5fqRW0PXC3Lf8rhfmvt1vvTD3Lb/rhblv+V0vzH3L73ph7lt+1wtz3/K7XtB9u18mMr++1yYiIiJSdBS5a4pERERE8oNCkYiIiAgUikREREQAKBSJiIiIAFAoKnC6zl1ERKRw+NeHIssfeMyL+wk0ycnJAG79sTyLzH8U735dunQJwP31MS4uDufOnXtQXZJCTgFdHjbNOSls/pWhKDExETNnzoSfnx9atmyJNm3a4L333sPhw4fv+pfUbDbDZDIZf204a6C5evUqzp49i9OnT2dbd+fOnejVqxc+/vhj/Pbbb7hx4waAW7ctT0pKQkJCgtVf8wasnzyOHTuGH374AefPn8+xb7///jsGDRqEixcvWoUuSz/j4+OxaNEixMTEwGw2W207MTERn376KXx9fdG3b1+0adMGvXr1wsKFC3H9uvVfDLes97Cf2O60v/zuz93uP7/7cbswn5d9Z50r9+rQoUP3tf7duJ9jm5/z5k5vaB7WnCzIOXcv+7csl9c5Z1k/r3PuXo7T/R7b/Jp3BT3nMu8jP/f1sF9f/pX3KRowYAD27t2Ldu3awd3dHYmJiTh48CBOnDiBgIAAvPfee6hUqRKcnZ1zXP+vv/7CjBkzEBMTg4YNG2Ls2LHw8/MDSZhMJsTExGDSpEnYvXs3mjRpglmzZqFcuXJITU2Fvb09Ro0ahUmTJqFFixZIT09HjRo10KpVK1y4cAHDhg1D06ZNERQUhPfff9/YJ0mcPn0anp6eeOqpp2Bvb49PPvkExYsXx4kTJ7Bz507Y2dmhQ4cO6NGjB5YsWYLg4GB89NFHaNKkiRHiZs+ejY8//hgpKSkoX748PvnkE9SvXx9Hjx5FpUqVMHDgQJw8eRJt27aFs7MzZs6cibi4ONSoUQPVqlXDhAkTEBAQkONxycsTneWY3U09p2Uzt5nN5jv+PRzLY5DTdkgiLi4OKSkpqFOnzm23c/36dbi4uNzVWDIfl7Nnz+Lo0aNwcHAAAFSqVAmlSpUylr3TGC5fvozTp0+jRo0a2Wp//fUXEhISEBQUhBIlSljVzp8/jxs3bqBChQqwt7fPtu727duRlJSE1q1b57jf2NhY7Ny5EwMHDszxDzEuX74c7777LubOnYuQkBBj3Jbjcf36daxfvx779+9HYGAgOnfunG0bp0+fRlxcHADA3t4elStXRtmyZXM9FhZ3mkNZlzWbzbC1tc11mbuZR3nZd27rnzp1Cg4ODncc653mf27L5+ecA3Kfdw9izu3atQsDBgzI85z7+eef8ccffxTonLMsX1jmXX7Oucz1w4cP49ChQ7h58yYcHR1Rt25deHt731UfT548iVOnTqFGjRrZ/v4ZSezYsQNxcXEIDAxE3bp172qbd43/MmazmS4uLoyNjbVqi4uL41dffcXw8HDWqlWLffv25ZIlS3js2DHevHnTahuhoaFs3rw53377bYaEhLBSpUo8evSosa0qVarwhRde4LfffktfX19++eWXnDJlCp955hk+9dRT/Oyzz+jn58ePP/6YEyZMYLNmzRgWFsaKFSuyevXqtLW15apVq0iShw4dYrdu3VizZk127tyZ48aNo6urKzdv3kyS/PLLL1mpUiXWqFGDvr6+rFq1Ku3s7LhkyRJ27NiRDRs25P79+42+lS1blrNmzeK2bdvYpUsXDh8+nM8++yyDg4NZsWJFOjo6Wh2bbdu2MTIykpMnT2bNmjUZGRnJCxcucNWqVVy4cCGjo6O5evVqJiYm3vVj8Msvv3Dz5s00m83ZalevXmV0dDTnzZvHM2fOZKvHxsZy9+7dvHbtWo7bHj16tNV4sxo2bBijo6N59epVoy0lJcX4f9euXRkaGsqDBw/muP39+/dz2LBhHDRoEJcuXZqtvnTpUn711Vf8z3/+w5UrV/LcuXNGbfbs2WzUqBEdHR3p6urKBg0a8JlnnuEXX3zBEydOkCQzMjKMvlv+b7Fs2TK2adOGxYsXZ5kyZThnzhxmZGTQbDbzk08+Yb169WhjY0M3Nzfu2LGDJHnz5k2eOHGCjz/+OBs3bsypU6dyx44dRr+2b9/OlStXMjQ0lP/5z3+MfZ09e5ZxcXE8d+4cr1+/zubNm3PQoEFMSkoiSa5atYozZ87k+PHj+cMPP7Bhw4a0t7dnYGAgV65cme24vP7666xZsybLlStHW1tbLl++nJcvX+aOHTu4Zs0afvLJJ2zevDnd3NxoMplYvnx5du7cmR988AETEhJIklu2bOH69eu5ceNG7ty5k8nJycb2sx6rrPbt28dDhw7lWDObzVyxYgV//vnnHOsHDhzg6dOnmZ6enmP9s88+4z///GNsK6tRo0bx+++/t3oeybxct27d2KlTJ546dSrHbcTHx3PixIkcM2YMd+/enW37v/76K1etWsXVq1dz69atvHz5slHLzzlH8rbzrl27dmzcuDGnTJnySM65zMcuN/k17wp6zpG3n3cffvgh69atSwcHB1asWJFhYWFs1aoVR4wYwV27dvH8+fO5/j4tWLCAYWFhdHBwoKOjIydMmMDU1FTjWE+aNImBgYF0dHSkyWTizz//zJSUFJ46dYo7d+60ej7Pi39dKPrjjz8YGBho/PJmdf36dXp7exMA7e3t6efnx6FDhzImJoZnz57l3LlzGRgYyPj4eEZFRXHbtm1s3Lgxn3/+eZLkV199xVq1anH8+PFMSEjgmjVrWK5cOTZs2JCDBg1iREQEg4KCOG3aNPbu3Zvp6em8ceMGly9fTjs7O5YvX55OTk5s0aIFY2Ji2KBBA4aFhXHy5Mns3bs33dzc6ObmxitXrvDAgQP08fHhZ599xl27djEmJoYtWrSgvb09Dx8+zO3bt7NRo0YsVqwYZ8+ezXnz5jEgIIBpaWkkyT///JOOjo586qmnuGDBAg4YMID29vZctWqV8Uty+fJlli1blunp6bx8+TLLlCnDZs2asUyZMixRogRr1arFsLAwtm/fnpMmTeLOnTtJ5vyLeu3aNQ4bNoxlypShg4MDy5UrZwQLs9nM5ORkdu/eneXKlWOxYsVYsWJFXrp0iRcvXuRvv/3GTZs20dnZmZ07d+bbb7/NlStX8u+//yZJjhw5khs2bKC9vT1Pnjxp7HPjxo386aefuHnzZh46dIiurq786aefSJJHjhzhW2+9xQEDBnDAgAFctGgRTSYTa9euzbp16xrLWVy6dIlhYWEMCgpiy5YtWbJkScbFxXHHjh18//33GRERQT8/P/r5+bFEiRJ0cXFhkyZNOHbsWB44cIAlSpTgO++8w+PHj3P//v2cMmUKH3vsMfr7+7Ndu3b08vLi66+/boQ6i4yMDCYmJrJatWp88sknuWTJEo4ePZo1atTg/v37eeHCBVaoUIHTpk3jiRMn2KtXL06cOJG9evVixYoVGR4eTk9PTxYrVoylS5emvb09W7ZsycWLFzMkJISDBw+myWTisWPHSJKLFy9maGgonZyc6Obmxq5du9LJyYn//PMPzWYzX3vtNXp5edHX15dNmzZlSEgIbWxsGBsbyy5dutDd3Z0ff/wxU1NTSZLnzp2jm5sb161bR5KcPn06n332WYaEhNDf359BQUF0dnbmlClTmJqayj/++IPVqlVjrVq16O/vz6ioKPbv35+enp50cnJiuXLl2LhxYz733HP87rvveOXKFWMOWf5l/n0eN24c/f396ejoyMDAQP76669G/cqVKxwwYABLlSpFBwcHBgUF8ebNm0aY/PPPP1miRAk+/vjjnDlzJvfv38+LFy8a49i6dStdXV2tAvyePXv4559/8uTJkzx79iw9PDy4fPlykuSFCxc4bdo0jhkzhuPHj+fatWtpMpno5+fHtm3bGvPZ4vLly4yMjKS/vz/9/f1ZqlQpnjlzhnFxcVy4cCG7du3KypUrGy/sfn5+fPrppzl//nwmJCSwRIkSHDVq1AOfc5bHNbd5Z3msnJ2dH7k593//939GULPMtYc578aNG0cXF5cCmXOLFy/mDz/8wJdffvm2865YsWLG4/HPP/9wwYIFfP7559moUSOGh4ezTJky7N27N1etWsVLly4Z+75w4QJ9fX05cuRIfvPNN5w6dSp9fX35yy+/kLwVnMuUKcOZM2cyLS2Nb7zxBt944w22adOG3t7eDA4O5ty5c3k//nWh6Pr162zRogWbNWtm/MJlFRoayjJlyvDIkSOcMGECfX19aTKZWL9+fdaoUYP9+vXjV199RVtbW5Lk2rVrWbVqVR47doxt27Zlr169aDKZSN46c1G3bl3jnceePXvo5+fHVatW8emnn+bkyZNJ3jrD4O3tzcDAQDZp0oQDBgzg+PHj2blzZx4/ftzo2xdffEE7Ozv++uuvnD9/Pjt06GA1htq1a9PHx4effvopSTI1NZUvvvgiq1evzq5du7Jr165G4h4zZgxDQkKMkLR37166ubkxIiKCJJmWlsbx48ezWrVqJMn09HTWrVuXJUuW5MaNG0neOnPyxRdfGE+E9vb2fPbZZ7lx48ZsZ3OmTZvG+vXr84033uCpU6f4wgsvMCwsjFevXqXZbObkyZPZoEEDbtiwgenp6ezUqRPHjRvHsmXL0t/fnw0aNKCbmxuDgoJYs2ZNent7s2PHjnzvvfdoMpnYu3dv1q9fnyR59OhRvvzyyyxWrBjt7OxYsWJF1q9f36jv2rWLzZs3p6+vL3v16sVOnTqxYsWKDAgI4PHjx9msWTOWLl2aixYtMo7X+PHj2bBhQ16/fp0k+fLLL7NXr150dXWlv78/nZ2dOXToUJLkmjVrWKVKFUZFRbFatWps2LAhQ0NDc5yTMTEx9PHxIQDWqlWLJpOJNWrU4NSpU40nvokTJzIkJIT16tXjkSNHePHiRUZFRbFLly6cOHEimzRpwtTUVLZv355fffUVnZyc2LdvXy5fvpydO3emvb09+/Xrx4yMDK5bt46dOnWinZ0dTSYTq1SpwurVq/Off/7hb7/9xrp167Jnz57cu3cvv/vuO/r4+NDFxYVXr17lpk2b6O3tzfXr15O89W42PDycALhr1y5jzvv5+fGjjz4iSX788cfGnCJvBVWTycSZM2dy9+7d7NixIwFw+fLlxrvH//znP3zuuecYExPDMmXKsHjx4vzvf//L9PR0btu2jaNHj2Z4eDhLlChBV1dXjh8/nvHx8VbHNSMjgx999BGDg4M5ZMgQbt26ld26dWO7du2Ynp7OjIwMTp06lQ0aNODPP//Mv//+my1btuRnn33GKlWqsFy5cmzSpInxeLi4uNDNzY09evTg3Llz6eTkxGeffZb16tUjSZ48eZLvvPMOy5UrR5PJxLJly7J58+YMCQkxfr/atm3LkiVLslGjRmzatCn9/PwYGBjIbdu2sXLlyvT39+fatWuNF9kJEyYwNDTUOBPbu3dvDhkyhM7OzvT09KSrqyvfffddkuTChQtZtmxZhoaGsnz58mzTpg3DwsLyZc5Z6o0bN2b79u155swZ/u9//6OTkxP79OnDFStWMDw8nLa2toyLi3uk5lylSpXYtGlTenp6cuLEiQ993tnZ2RnPyQ97ztWvX5++vr708/MzHo+s865du3Zs0KBBjvNux44drFmzJk0mE8PCwozn5tdee43btm3juHHjGB4ezvj4eFapUoX79u3js88+y4YNG5Ik33//fTZu3JgRERGMj4/njz/+SBsbG7755pvcuHGjEbb37NmT4/7vxr8uFJG3TonWq1ePjRs35sKFC5mQkGC80F29epWBgYGsWbOm1Tp79+7lwIEDaWdnRwcHB9rZ2bF///5GoIiMjOQbb7zBXr16sWnTpuzRowdJsmHDhkZAMZvNTE1NZceOHTl16lT+8ssv9Pf357Fjx9iyZUu+9NJLrF+/PqtUqcLOnTvT3d2dCxYsIHkrkJjNZp45c4Zubm6sW7cux48fzyeffNI4XXj+/HmaTCZ27tyZw4YNM37Zz58/z1deeYW2trZ0dnbmG2+8wfHjx9PHx8d4QrWoUaMG7ezs2L59ezZv3pwVKlTgkiVLjHqZMmUYHh6e7ZhmZGSwevXqdHBwYPHixWljY8OAgACOGTOG+/fvZ3p6OgMCAtizZ0/jiTohIYG1a9fmuHHjSJIBAQF88cUXjSfdrl27slq1avz222+5fft2hoWFsVKlShw5ciRJcsWKFezfvz9LlChBZ2dnuri4sG/fvty7dy9ffvllNm/enN999x3T09P5f//3f3R2dqa/vz9Jsm/fvuzdu7dxluHw4cN0cXFh6dKleeHCBaampvLll1+mr68v582bR5Js0qQJv/jiC2PMPXv2ZIMGDfj7778zODiYbdq0Yfny5Y130r179+ZHH33EmJgYuru7s2zZssbHcjdu3LA6zfvEE0/Qw8ODn332GTdv3sxXXnmF3t7etLGxYUREBOvUqcOoqCi6uLgY6+zcuZOenp4MCgrijBkz+H//93+0tbVl37592apVK2Nsly5dYnBwMMPDw40zmiQ5efJkent708nJiQAYERHBnj17sn///lan3b///nva2dlxxowZnDx5Mnv27Gn12Ht5eTEkJIRTpkyh2WzmxYsXOXz4cJpMJvbt25fDhw9ns2bNjI+YBw4cyI4dOxphfuTIkfTx8eHQoUONtjfffJPt2rUjSVauXJnu7u7ZPoYwm8308/Ojra0tPTw8aDKZ2LBhQ86ZM8cYe7Vq1dizZ0+2bt2a5K0X1CpVqnDWrFkkyapVq/LFF1/kM888Q5Ls3Lkz/fz8+Mknn3DNmjWsXLkyq1atyhkzZpAko6OjGRkZSZPJRHt7exYrVoxvvPEGz549y6FDh7JJkyb88MMPeerUKc6cOZMODg5GEO/bty+7d+9uhI6dO3fS0dGR3t7evHnzJs+ePcsnn3yStWvXNj7CDgsLs3rn2717d9atW5cxMTGsVasWQ0ND6eXlZbww9+jRg19//TUXLVpknG3Njzn3yy+/MDIykv369TPeHGaddwkJCSxZsiRbtWr1SM25b775hnZ2dixRogSrVq360OcdALZs2ZJr1qzh888//1Dn3MGDB1miRAmWKFGCJ0+eNN4wZp53luc6yyUeaWlpxuuk5bEoVaoUZ86cyVOnTnHKlCmsXbs2TSYT3dzc2K5dO44aNYoeHh4kb73BrVSpEhcvXsw2bdqwd+/edHBwIEk+88wzbNWqlTF3bt68yRYtWhjHOS/+laGIvPVZ75NPPkknJyeWLl2aXbp04QsvvEA/Pz8GBQUZpx5TUlKsTpHu2rWLPXv2pMlksvqsddmyZSxVqhS3bdvGYsWKcdOmTTSbzTx+/LjVL/uVK1dYtmxZ4+O7BQsW0N/fnyaTidu3b+eRI0f41Vdf8emnn2ZERISRxrOu37BhQzZo0IAmk4nDhw/nrl27ePPmTc6aNYvFixfnli1bso15+vTpdHd3Z7ly5di2bVuOHTuWISEhxlms+Ph4li5dmh9//DF79uzJZ555xpjYJLl7927a29szKCjIeBeRlpbG9PR0njt3jk2aNOGwYcMYGBjI5cuXc+TIkaxUqRJtbW0ZEhLC8uXLs0qVKnz11VeNbc6ZM4d+fn7cuXMnq1WrxgYNGhgv3Pb29vzuu++MZWNjYxkcHMw6deoYTxYkWaVKFbZt25YAaDKZOHbsWFasWDHbx18vv/wyHRwcuHHjRnbo0IHz5883anv27KGTkxNDQ0ON9c6cOcPnnnuOtra2Rljr2bMnT58+zRs3btDFxYWLFy/m1atX2alTJw4dOpQNGzY0QmTJkiW5bNkyY9/FihXjs88+yxs3bhj7zcjI4M2bNzl9+nT6+Pjwgw8+IHkrBCckJHDp0qV84okn6OjoSAAcO3assR5JPv744/T19eXXX3/N5s2b8/XXX2e/fv2MMVgen5YtW3LatGmsXbs2p06dSvLWE/MHH3zAoKAg1q5dm40aNWLp0qWzXZ9x5coV40Vozpw5fOyxx3j48GGS5D///ENbW1tGRETwvffes1pv8eLFrFWrFp988kn6+Phw0KBBfPrpp+nn58fhw4cb/du2bRvt7OzYtWtXkrfetHh4ePD777/njRs3GBUVxZIlS3LRokUkbz3xpaam8syZMwwLC2OfPn1Yq1Ytzp07l3369GGpUqXo6OjI1q1b09PTk4GBgXzxxReNfo0bN4716tXjgQMH6O/vz7CwMD777LMkSUdHR2M/JLlkyRLWq1ePAQEBXLFihdWci4iIIAAC4KRJk1ihQgX+8MMPVscgKiqKzs7O3L9/P5s2bWr1BmPv3r10cHBgcHAwN23aRJI8ePAg27VrRzs7O44bN45t2rTh0KFDjWvg3NzcuHTpUiYlJTEyMtI427tmzRqSpIeHh/H/J554gu7u7nz++ecf6Jzr3r07u3XrxmeeeYYBAQF8/fXXSTLHeRcREUFPT89HZs6Rt54XfH196ePjw99++41r1qx5aPPOcnbPy8uLAOjh4fHQ5hxJJiUlMTw8nN7e3ly7dq0xJzLPux49erBUqVLs2rWr1bWZlpMCX3/9NX19fTlhwgSrfm/dupWBgYF0dXWlyWTiuHHjjDf2r7zyClu2bMm33nqLtWrV4rBhw0iSb7zxBmNiYkjSeHxat25tnDHMi39tKLKwXCfUqVMndu/enePGjeOff/6ZbbmMjAzjAZo9ezadnZ2tPrZKSUlhu3btWKtWLXp7e1uta1kuIyOD8+bNo4+Pj1FLT0/n22+/zZdeesk4W2XZ3qFDh6xOzWZkZPCrr76it7c3k5OTOWfOHJYuXZomk4lBQUGsVKmScSoyp/1b+h4WFsYbN24wOTmZLVq0YN++fTlkyBAGBQWxffv2OR6nS5cu8dNPP2WbNm1YpUoVjho1yuri6oSEBE6fPp0LFy6kq6urcV1Peno6N27cyKioKNra2hIAT5w4YfQpPT2dQUFBfP31142zWUePHuWJEyf4yiuvGB/BZWRkMC4ujj4+PoyJiWH16tX5888/8/Dhw3RwcODatWvZokULhoeHs2rVqqxVq5ZxIanF1q1bWaxYMfbo0YODBw/mE088Ybyzs1wT5OrqavVxJUnOnTuX1atXZ6dOnejv789OnToxIiKC/v7+xpPFjBkzWK5cOTo6OvLHH3/k0KFDWbp0aeP4//bbb6xQoQJLly7N4sWLc/DgwcYp3oSEBC5YsIAuLi7GO9vMUlNT+emnnxKA8e7Mcvx2795NT09PLl++nA4ODoyLi+OxY8esLgA9ffo0nZyceOzYMcbGxvKJJ57gypUr6eDgwL/++ovJyclcunQpBwwYwFatWhnXYWR+bC2nzk0mE00mE/v378/169dz8+bNHD16NEuVKmX03dK/tLQ0Lly4kKVLlzbOaA0ZMoTz589no0aNjBfqNWvW0NnZmc7OznRwcKCXl5dxppW8dZ0eAL7//vtW/Tp8+DDfeustzps3jx4eHjx16hRTU1N59OhRLliwgOHh4cY768xzLjk5mX5+fhw1ahSfeuopY879/fff7NWrlzHnzGYzDx48SD8/P37zzTf08/Pj/v37eeTIETo4OHDJkiX08/NjSEgI69aty3r16vHs2bNWffzhhx/o6urKl19+ma+//joHDhxonK157733GBkZSXd392xzbvTo0axWrRq7devGcuXKccCAAWzXrh3Lli1rvAi88847rFixIl1cXLh//36OHz+eJUqUMN6Vr1+/nj4+PixVqpQx53bv3k2z2cyEhATOnz//tnNu5syZOc6533//nRUrVmRMTAzt7e155MgRZmRk8NixY1YXz8bHx9PZ2Znffvstu3XrxpUrV9Le3p5//fUXL1++zCVLlrB///63nXNBQUHGnOvXrx9//vlnbtmyhaNGjWKpUqWMi41zm3P16tUz5lzDhg2NObdq1So6OzvTycnptnNu0qRJVv0ym808fPgwBw8eTBcXFyYkJBgv9vkx7xYtWmQ17+zs7Ojr68tmzZqxVq1arF27dq5z7pVXXsk258aMGWPMuawf+2Wec+XLl+fAgQOzzTmz2cwhQ4YYFzhfunQp27yLiYmhv78/q1evTkdHR3br1o2rV6/miRMnuGfPHn7yySd0c3Pj0aNHs12+cvbsWc6ZM4cmk4nHjx836keOHKG3tzeXLVtmzDmz2cxLly5ZPdedOnWKLi4uxrVqefGvD0WZ3embBBbTpk0z3vmQ/z90fPPNN8aZipwsWbKEjRo1sjrLQd4KBlm/1ZCT77//nvXq1TPe2VkcO3aMs2bN4uzZsxkbG2t1qjInmcPMyZMn+eqrrzI4OJhjx45lXFxcruudOHGCJ06c4KxZs4wn2ueee46xsbH8559/+O2337J3794MDg7O8Vqt/v37MzAwkCSNJzDy1mf5ERERHDduHP38/HI9JtOmTTPWnzNnDl966SX26dOHERERTE9P58WLF/njjz9y+PDhHDFiRLZQ9OGHH7Jy5cpWL+59+vThwoULOX36dHbp0oXNmjUzlrc8wd+4cYOff/45AbBhw4bs06cPY2NjOWrUKCNY/frrrwwMDDS227RpU37zzTfGtqZMmcLAwECePXuW77//PuvXr08HBwd6eHiwRo0a9Pf35+jRo3M99mPHjjWOTeb+mc1m9uzZk3Z2dlbXLFmO/4ULF/j2228zNDTUGM+IESNoMpkYFRVlPAaW5RMTE63mx4ULFzhixAjjGoXly5ezR48edHd3p4ODA/39/VmjRg1+/vnnufZ969atxtkEywX7jRo1YvHixY0QO3jwYP72229cunQpf/zxR+MF4ty5cxw+fDgrVqxIJycnent7c9SoUYyLizOuj3ruuedYt27dbPtNTU1lu3btWKdOHWOMlvG+++67bN++PadMmWIc1xs3bvD06dNW28g858aOHcu3336bgwYNYrNmzZiWlsYzZ87wu+++Y48ePTho0KBsc27atGn09/enl5eXMTfGjBnDTZs2ccGCBezRo4dxvYTl+JC3LnYdM2YMAbBp06Zs3Lgxly5dyhdffNE4+7Bz505Wr17d2G79+vU5e/Zskrfe0U+ZMoV16tThhQsXOGHCBAYGBtLZ2ZnFihVjtWrVrOac2Wy2+mjt8uXLVr+PmY+d2Wxmt27dss05i6SkJF64cIHvvPMOQ0NDmZGRwWHDhtHGxoYdO3Y05pdlzp0/f944W03e+rhk5MiRxpxbunQpH3/8cZYsWZK2trbGt20zz7nMz3lJSUlWcy41NZXnzp1j06ZN6ebmxtDQUOPjq127dnHJkiVctWqVcUbfMuc8PT2Nj5reeecdY85t2rSJAwcONOZFVpZ5V7t2bWOclrMYmeedr68vyVtnoTKP3zJvatWqRfLWvBs5cqQx706dOsX58+ezR48eHDhwYLZwM23aNPr5+bFixYrZ5tyiRYvYvXt3qzlnOXaZ51x4eDgbN27MZcuWcfDgwcacO3HiBF988UUWL16cDg4Oxhtyy7wjacw78tb1RhEREXR0dGSxYsVYpUoVVq1aldOnTzeWtwRay+vvuHHjjBMLmY/dSy+9RJPJxEaNGlmN17Le6dOn+dZbb2Wr3yuFojzI/PXAzMxmM7dv357r19PNZjOPHTtmdUboXpjNZv7zzz9WXyd/UHIKMbdz6dIlfvTRR2zQoAHt7e1ZunRpenl5sXPnzty6dWu25W/cuMHq1atne+eVkZHBy5cvMzg4mCaTiV9++WWO+9uyZQtDQkL42Wef0Ww28/Lly+zatStNJpNV+LC4ePGi1WO0efNm1q1b17i+68cff+RTTz1FNzc3VqxYkX5+fnzuuedy/So+eevdZeaPMw8cOEAvLy96eHiwQoUKDA8P57fffsudO3dafRV/586dDA0NNcLwtWvXeOzYMW7dupWLFi3i9OnTeejQIeOXP+vcSk1N5axZs4yzUpnrGRkZXLp0KQHwiy++yPY11x9//JFt27a1+hjy/PnzHDVqFDdu3GhsK7c5uXbtWjZt2pTR0dEkb71oX7lyhWfOnGFMTAyXLFnC8+fP59j3zC+kluOR+UX/o48+Yq9evfjf//7XOGOX1bZt2/jaa69x1apV3LdvH4cOHcpq1arRzs6OHh4eLF++PMPDw7l+/fpsczgxMZGVK1fOMWweO3aMAQEBBGD1BiezzZs3s06dOpw4cSLJW+9CO3ToQJPJxPnz5zMpKYlJSUnGGM+ePWs1/k2bNrFWrVr85JNPmJ6ezi+//JKtWrUygonlK+Br167Ncf9Xrlzh1KlTuXr1aqMtNjaWJUqUoKenJ729vVmzZk1OmzaNa9asMT5e2rFjB5s2bUovLy8OHTrUeLG/cuUK165dy6lTp7JmzZocOXIkt27davXYW76y3r59e/bo0YMffvhhjvXg4GAC4FtvvWVVj42NZceOHY0vUSxcuJDkrbnw0ksvMTo6mh07duT06dO5adMmq+eyS5cucceOHQwNDaW/vz/HjBlj9WWNv/76i3PnzmVwcDAnTJjAbdu25di3Dh06cPr06Vy3bp3V9uPj4/nWW2/R09OTffr04a+//potCJ46dYobNmzg8OHDuW7dOu7Zs4dDhgxhYGCg1ZyLjIw0ngsyP+YnT57k6dOnWb16dePNa+Z5+dtvvzEgIIAmkynH615OnTrFX375hcHBwcZzleWWGgA4c+ZMq+Uzh3hL3+vWrcuZM2cyNTWVs2fPZrt27ejs7ExXV1eWL1+e3bt3z/FbwqdOnWJiYiI/+eQTqzm3adMmY875+PgwODiY3377Lbdu3crVq1cboezo0aOcOXMm69aty48//tiqn+fPn2d0dDRHjhyZ7ZuOlnVXrVrFhIQErl69mhs2bMhWnzJlCgEYxyWrH3/8ke3bt8/xVin3QqFI7kpOL5pms9l4gf/555+5bdu2XNe9fv06o6Ojc7yHxPXr1zlx4kSaTCZjP5l/Wa9cucJPP/2UXbt2tbo+KyEhgXPmzMn27j5z/8hbp61nzJjBNm3aWF1bYbFp0ybjfh05yemeSJlvWfD111/zww8/zHYam7x124OoqCjjK6hHjhyxqh88eJDPP/88q1atyj59+mS794ilXqVKlWz1zOu2adPG+Gpt5nUHDBhAf39/q3UtDhw4cMd9DxgwgH5+fnzmmWfy3PesdUuIyDy2zNu3vMisX7+erVu3ZokSJRgVFcWzZ88yPT2df/75Jz/99FMGBQWxWLFijIqKMi4ktcyv9evXs3nz5nRxcWHnzp1zrFtuvZFbPSAggPb29lbb37x5M8eMGcN169YZfevYsaMxBy3zc/369axevbrxpQXL+hcvXuSZM2f4+eefMywsjKVKlWKXLl1y3H/r1q1ZvHhxdujQwWqOR0dHs0aNGnRycmL79u2NeZeWlkaz2cy3336bJpPJ+JbU888/z+XLlzM6Opqurq5GvWXLloyIiOALL7zAJUuWcPbs2XR1dTXOJLZo0eK29fr167NZs2ZWdXt7e2PbjRo14vPPP8/Fixfz66+/ZrFixfjWW29l2/fixYv55ZdfWm27SZMmRv1///sf58yZc099z7r9zz//3Gr9Fi1aGMfm+++/56xZs+jq6sq2bdsaX+SwsJwJ3r59O+vXr88uXbpku/+P5UxPu3bt+Nprr/G9994zlslaDwoKoo2NjfFcl5GRYVVv1aoV27dvb7WPFStWsEqVKnzjjTeYleW5q127dsa4Lc9zaWlpjIuL45kzZ9iwYUP27dvXat2sfcs6dvLW89/ff//NGjVqMCQkxAjfFpa526NHD0ZGRnLIkCFMSUnh8ePHuWzZMq5atYoZGRns0aMHe/fubXwFPz4+nv/73/+4cuVKdu/ePdda5nX37t3L9PT0bHWLmzdv3vMb/KzsHuytIOVRNWrUKDRu3BjBwcEoX748HB0dYTKZ4OLigv/85z9o3LgxypQpg5SUFDg4OFjd8XTUqFGoV68emjdvnuMt20eNGoXg4GBs3brVuKNr5vXHjBmD4OBgTJ061Wq9ChUqYODAgXj99ddRu3ZtREZGGn3LvI333nsPwcHBmDlzZo53Yv3f//6HOnXqoHnz5ihXrhycnJys6qNHj0ZgYCBatGhh1C3bGTduHBo3boyOHTvC3d09291e+/XrB2dnZ7z22mtYtmwZIiMjsWHDBvj5+QEA+vbtC2dnZ/Tt29eo//LLL6hUqZJVvV+/ftnqffv2haurK3r16oVVq1ahdevW2dZ1cXHBgAEDrPbt6+sLAOjfvz9cXFxuu28XFxcMHDgQy5YtQ4sWLazWv5u+32n7mcfWokULo04Szz//PFq1aoUBAwZgxIgRWLFiBZKTk7F//34sXrwYnTp1wvDhwzFy5EisXLkSFy9exP79+5GWloZNmzbh8ccfx7PPPot33nnHqp6amootW7agc+fOqFChAubOnZvj+p06dcKwYcPw/vvvG/V//vkHFy9exJw5c/D4449jwIABGDlyJFatWoULFy7gjz/+MNbv2LEjhg4dismTJ2PlypW4dOkS9u3bh/T0dGP/Q4YMuW3/M28/MTER+/btw8qVK9G+fXuMHj3aOC6JiYk4cOAA0tPTERkZCV9fX7z22mu4evUq1q1bh927d+PkyZPw9vaGm5sbvLy80LlzZ1y5ciVbvUSJEvDy8kJUVBSSk5Px008/WdU9PDzg5eWFvn37Zlvf09MTN2/eRNOmTWFnZ2fU4uPj4eXlhZIlS95235b6k08+adR///33e+57bnV3d3djbJb6nj17cPLkSXh5eeGnn37Ciy++CAA4ePAg3n33Xfz999+oUqUKgoKCsG/fPsyZMweOjo44dOgQRo0ahQMHDqBKlSpo0KABfvrpJ0ycOBF169ZFXFxcjvXt27cjLS0N8fHxOdY3b94Mf39/HDt2DKNGjcKff/6JOnXq4J9//kGHDh0AwGrfVatWRUhIiLGur68vjh8/jlGjRuHgwYOoXLkyGjRogJ07d+Kzzz7Ltn7Wvmeu//HHH6hcuTLCwsIQFxeH7du3o3Llysax+eOPP1C1alU0aNAAq1atwk8//YSwsDDMnTsXEydOhLOzM27evAl7e3vEx8cjJiYGxYsXx5dffomJEyfCxcUFN27cwPHjxzF27Fh4eHhY1W7evIlhw4YhPj4e69evR506dbLVX3/9dYwdOxbdu3c3nvvvy31FKvlXsFwrlfVmlmfOnOH8+fONmouLC5955hnjRpdpaWnGuiaTiRUrVrS6Eeb91M+cOcOUlJT7Wv9++7dgwYLbjj06Opo1a9ZkmzZtuH//fl69etXqRp/z5s1jYGAg3333XSYkJNxTPTo6moGBgbxw4QInTZrEw4cPP7BtZ66PHj36vtbPaz23m6CGhYWxadOmdHFxYWBgIE+dOpXtBqnVq1enk5OTceYst7rlzFVudcuZq8z77t+/f671u1l/0KBBrFatGp2cnIx33He7fsOGDdmsWTNj7CdPnszx5rCW6w5zujlsQEAAGzZsyICAAHbp0iVf6v7+/ixXrhz//vvvh77v+6nndOPc0NBQTpo0iT179qSrqyuLFSvG69ev8/Dhw9lurGupX7t27bb1mzdv5lp3c3PjjRs3rOqTJk1iaGgobWxs2KNHDx44cOCu1rX03XIvtWLFimXbdta+5VTPvH5uY7PcVPjy5cs53lQ4KirK+GJH1vqUKVNYvHhx1qhRgz/88EOu6x48eDDHbb/yyiusWbNmtjNYeaVQJHc0cOBADh48OMebWYaEhPDJJ5/k5MmTaWNjY1WbNGkSu3TpwsjISNra2mZb90HUo6Ki8nX7t6uHhISwW7duuY49IiLC+Kqr5ZqbzDf67Ny5M59++mmaTKZ7rrdq1YpvvfUWY2NjaXlv86C2XRjqt7sJatu2bTlw4ED6+/vzhx9+yHaD1MaNG7N48eLGV5Vzq1u+QpxTPfNXnfOy/ftdP7f6ncZ+p5vDHj58mLNnz2a/fv3ypf73339z1qxZ9Pf3f+j7vt/6nW6cW6VKFTo6OvLQoUP3Vf/rr7/uef3g4GA+9thjLF26NF977bUHuu0HUb/TTYV/+eUXurm58f33389W/+uvvxgcHMyQkBD26dPnntYlb13HFR4enuu1RvdKoUhuKy0tjRMnTsz2WfPevXs5aNAgOjo60t7envb29uzfv79Re+6554xvKNnY2Bi1R6V+N2O3tbWljY0N+/XrZxxL8v/f6POJJ55g3bp12b1793uqR0REGBetP/300+zRo8cD23Zhqed2E9QbN24YF2dbboKa+Qap169f59NPP83g4GDjAupHpX6nsd/p5rBZb9WRn/WC3Hde6ne6ce61a9dYp04dOjk5sV69eg+1fuXKFdavX9/480HOzs6Fpm93c1Nh8tZ1U6VLl6a/v3+2ekZGBps0aUJPT0+Gh4ff07oWTz31lHHvovulUCR3dOnSJf71118krW9maalNnTqVJpOJO3bsyHaR26xZswiAe/bsybZuUa/fbuxms5njx4831s1cs9zoc/Xq1XRycjJu9Hm39aVLl7J48eIcPXo0PTw8rP6m0v1uu7DUc7sJqtlsZnx8PHfu3MmyZcty+/btVjdItVyAXrJkSeMxeVTqdxo7efubw1raMn9DMT/rBbnve63f6ca5ZrOZ+/bto4eHB9u0afNQ62azmUeOHOEXX3xBJycnBgcHF5q+WdzupsJpaWncsGED3d3dGRYWlmN98eLFtLOzY40aNe553Q0bNrB48eI5fus5LxSKJE9yupnl3dQe9XputTvd6PN+6vm57cJQt7jdTVBvV3vU67er5XZz2IdRL8h930/9TjfOLci6l5dXoe3b3dxU+Hb1wYMH53ndrGcC74dCkdy3rDezvNvao17PqXanG33eTz0/t10Y6ha53QT1TrVHvZ7Xm8PmZ70g9/0g6ha53Ti3MNQLa9/udFPh29XvZ937pVAk9y23m1neqfao129Xu5sbfea1np/bLiz13G6CeqcbpD7K9fu9Oazk7k43zi3IemHuW1FkInO4cYyIiIjIv4xNQXdAREREpDBQKBIRERGBQpGIiIgIAIUiEREREQAKRSIiIiIAFIpEREREACgUiYiIiABQKBIREREBAPw/2hbLPDFCKu8AAAAASUVORK5CYII=\n"
          },
          "metadata": {}
        }
      ]
    },
    {
      "cell_type": "markdown",
      "source": [
        "Exercise: Implement this equation\n",
        "$$U = QFT e^{-iT\\Delta t} QFT_{inv} $$\n",
        "\n",
        "We have functions for QFT, Kinetic Energy and inverse QFT:\n"
      ],
      "metadata": {
        "id": "amo4n8X6xcIo"
      }
    },
    {
      "cell_type": "code",
      "source": [
        "\n",
        "# write a code for first iteration: Initialization->QFT->KE operator->inverse QFT\n",
        "# initialization(qc,wavefunction,q_reg)\n",
        "\n",
        "\n",
        "qc.draw(fold=-1)\n",
        "# iter1=qc.copy()\n",
        "# display_histogram(iter1,q_reg,clas_reg)\n"
      ],
      "metadata": {
        "id": "M1OjFRFX0q39"
      },
      "execution_count": null,
      "outputs": []
    },
    {
      "cell_type": "code",
      "source": [
        "def evolve(iter,wavefunction,n=6,plot=True,hist=True):\n",
        "    phi = 0.3  # function of time step\n",
        "    q_reg=QuantumRegister(6)\n",
        "    aux_reg=QuantumRegister(1)\n",
        "    clas_reg = ClassicalRegister(6)\n",
        "    qc=QuantumCircuit(aux_reg,q_reg,clas_reg)\n",
        "    initialization(qc,wavefunction,q_reg)\n",
        "    i=0\n",
        "    snaps=[]\n",
        "    for i in range(iter):\n",
        "        apply_QFT(qc,q_reg)\n",
        "        Time_Evolution(qc,n,q_reg,aux_reg)\n",
        "        apply_invQFT(qc,q_reg)\n",
        "        if i%2==0:\n",
        "            snaps.append(qc.copy())\n",
        "        i=i+1\n",
        "    for snap in snaps:\n",
        "        display_histogram(snap,q_reg,clas_reg,plot=plot,hist=hist)\n",
        "\n",
        "\n",
        "evolve(iter=10,wavefunction=wavefunction)"
      ],
      "metadata": {
        "id": "BOBLQp0b0sz3"
      },
      "execution_count": null,
      "outputs": []
    },
    {
      "cell_type": "markdown",
      "source": [
        "Now lets work on a gaussian wavefunction with initial kinetic energy, which means a wave that is travelling forward\n",
        "\n",
        "$$\\psi(x,t_{0}) = \\frac{1}{\\sigma\\sqrt{2\\pi}} e^{-\\frac{1}{2}\\left(\\frac{x-x_{0}}{\\sigma}\\right)^{2}} e^{i\\hbar k_{0}x}$$"
      ],
      "metadata": {
        "id": "4kNtGaPxqOEF"
      }
    },
    {
      "cell_type": "code",
      "source": [
        "x = np.linspace(-4,4, num=64)\n",
        "\n",
        "\n",
        "\n",
        "'''wavefunction: guassian wavepacket with moving forward(+ve x axis) in time'''\n",
        "x0=-2.25\n",
        "hk=-3\n",
        "unnormalized_wavefunction=\n",
        "\n",
        "\n",
        "\n",
        "\n",
        "forward_wave =\n",
        "\n",
        "\n",
        "plt.plot(x,forward_wave)\n",
        "plt.show()"
      ],
      "metadata": {
        "id": "XGKM31Ki0vZt"
      },
      "execution_count": null,
      "outputs": []
    },
    {
      "cell_type": "code",
      "source": [
        "evolve(iter=10,wavefunction=forward_wave,plot=True,hist=False)"
      ],
      "metadata": {
        "id": "pSJsqj0M0zMp"
      },
      "execution_count": null,
      "outputs": []
    },
    {
      "cell_type": "code",
      "source": [],
      "metadata": {
        "id": "UzAHaLTM00tZ"
      },
      "execution_count": null,
      "outputs": []
    }
  ]
}