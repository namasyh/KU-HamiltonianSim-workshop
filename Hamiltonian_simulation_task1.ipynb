{
  "nbformat": 4,
  "nbformat_minor": 0,
  "metadata": {
    "colab": {
      "provenance": [],
      "authorship_tag": "ABX9TyNbHGjY07v7Yu3m1YoFHwnP",
      "include_colab_link": true
    },
    "kernelspec": {
      "name": "python3",
      "display_name": "Python 3"
    },
    "language_info": {
      "name": "python"
    }
  },
  "cells": [
    {
      "cell_type": "markdown",
      "metadata": {
        "id": "view-in-github",
        "colab_type": "text"
      },
      "source": [
        "<a href=\"https://colab.research.google.com/github/namasyh/KU-HamiltonianSim-workshop/blob/master/Hamiltonian_simulation_task1.ipynb\" target=\"_parent\"><img src=\"https://colab.research.google.com/assets/colab-badge.svg\" alt=\"Open In Colab\"/></a>"
      ]
    },
    {
      "cell_type": "code",
      "execution_count": null,
      "metadata": {
        "id": "S0WV30x1zn_6"
      },
      "outputs": [],
      "source": [
        "### '''Installation'''\n",
        "!pip install qiskit[visualization]==1.1.0\n",
        "# Use the following if you are on MacOS/zsh\n",
        "#!pip install 'qiskit[visualization]'==1.1.0\n",
        "!pip install qiskit_aer\n",
        "!pip install qiskit_ibm_runtime\n",
        "!pip install matplotlib\n",
        "!pip install pylatexenc\n",
        "!pip install prototype-zne\n",
        "from IPython.display import clear_output\n",
        "clear_output()"
      ]
    },
    {
      "cell_type": "markdown",
      "source": [
        "# 1-D Schrodinger equation\n",
        " Schrodinger equation:\n",
        "$$ i \\hbar \\frac{\\partial}{\\partial t}|\\psi(t)\\rangle = H |\\psi(t)\\rangle $$\n",
        "\n",
        "The Hamiltonian H of the system is:\n",
        "$$T+V = \\frac{p^2}{2m} + V$$\n",
        "where p is momentum operator, V is potential operator and K is Kinetic Energy operator.\n",
        "\n",
        "Its evolution is given by equation: $$|\\psi(x,t)\\rangle =  e^{-iHt} |\\psi(x,0)\\rangle$$\n",
        "\n",
        "The unitary operator is $U=e^{-iHt}$\n",
        "\n"
      ],
      "metadata": {
        "id": "8rJIQIpV0H--"
      }
    },
    {
      "cell_type": "markdown",
      "source": [
        "## Trotterization of Hamiltonian H\n",
        "\n",
        "T and V are non commuting operators, i,e $[T,V]\\neq 0$\n",
        "\n",
        "Hence, Hamiltonian H need to be decomposed using trotterization\n",
        "\n",
        "### Lie Trotter Method\n",
        "$$e^{i(A+B)n\\Delta t} \\approx (e^{iA\\Delta t} e^{iB\\Delta t})^n $$\n",
        "Lie-Trotter decomposition of H\n",
        "$$\n",
        "U =e^{-i\\hat{H}t} \\approx \\left(e^{-i\\hat{T} \\Delta t} e^{-\\hat{V} \\Delta t}\\right)^n\n",
        "$$\n",
        "\n",
        "\n",
        "<!-- <details>\n",
        "<summary>Lie-Trotter decomposition of H  </summary>\n",
        "\n",
        "inside text\n",
        "</details> -->\n",
        "\n",
        "### Suzuki Trotter Method\n",
        "$$e^{i(A+B)n\\Delta t} \\approx (e^{i\\frac{A}{2}\\Delta t} e^{iB\\Delta t} e^{i\\frac{A}{2}\\Delta t})^n $$\n",
        "Suzuki-Trotter decomposition of H\n",
        "\n",
        "$$e^{-i\\hat{H}t/\\hbar} \\approx  \\left( e^{-i\\hat{V} \\Delta t/2} e^{-iT\\Delta t} e^{-i\\hat{V} \\Delta t/2} \\right)^n\n",
        "$$\n",
        "<!-- <details>\n",
        "<summary> Suzuki-Trotter decomposition of H</summary>\n",
        "inside text\n",
        "</details> -->\n",
        "Since $\\hat{T}=\\frac{\\hat{p}^2 }{2m}$ which is in momentum space, for applying operator T, the  basis need to be transformed to momentum space and revert back to computation space after applying the gate. We can achieve by using Fourier Transform: Quantum Fourier transform for quantum computers. So the operation would become:\n",
        "\n",
        "$$e^{-i\\hat{V} \\Delta t/2} QFT e^{-iT\\Delta t} QFT_{inv} e^{-i\\hat{V} \\Delta t/2}$$\n"
      ],
      "metadata": {
        "id": "RzDcR2BV0Kq-"
      }
    },
    {
      "cell_type": "markdown",
      "source": [
        "## Free Particle: V=0\n",
        "$$U = QFT e^{-iT\\Delta t} QFT_{inv} $$"
      ],
      "metadata": {
        "id": "V9od5eCj0WxV"
      }
    },
    {
      "cell_type": "code",
      "source": [
        "# import of required libraries and modules\n",
        "from math import pi\n",
        "import numpy as np\n",
        "import matplotlib.pyplot as plt\n",
        "from qiskit import QuantumCircuit, ClassicalRegister, QuantumRegister\n",
        "from qiskit.visualization import plot_histogram, plot_distribution\n",
        "from qiskit.circuit.library import QFT\n",
        "from qiskit.primitives import StatevectorSampler,Sampler,Estimator"
      ],
      "metadata": {
        "id": "KJEihZ8h0JON"
      },
      "execution_count": null,
      "outputs": []
    },
    {
      "cell_type": "markdown",
      "source": [
        "### Initial wavefunction\n",
        "For now, We will be working on a Gaussian stationary wavefunction with no initial kinetic energy $k_0=0$:\n",
        "$$\\psi(x,t_{0}) = \\frac{1}{\\sigma\\sqrt{2\\pi}} e^{-\\frac{1}{2}\\left(\\frac{x-x_{0}}{\\sigma}\\right)^{2}} e^{i\\hbar k_{0}x}$$\n",
        "\n",
        "Since $k_0=0$, we can exclude the last term and $\\psi$ becomes:\n",
        "$$\\psi(x,t_{0}) = \\frac{1}{\\sigma\\sqrt{2\\pi}} e^{-\\frac{1}{2}\\left(\\frac{x-x_{0}}{\\sigma}\\right)^{2}}$$"
      ],
      "metadata": {
        "id": "4Yb1tlma0i2M"
      }
    },
    {
      "cell_type": "code",
      "source": [
        "# Preparing the Gaussian-shaped histogram that will be used in the initialisation\n",
        "\n",
        "x = np.linspace(-4,4, num=64)\n",
        "\n",
        "\n",
        "\n",
        "'''wavefunction: guassian wavepacket'''\n",
        "x0=0\n",
        "sigma=0.4\n",
        "hk=0\n",
        "\n",
        "unnormalized_wavefunction =\n",
        "\n",
        "\n",
        "\n",
        "\n",
        "wavefunction =\n",
        "\n",
        "\n",
        "# plt.plot(x,wavefunction)\n",
        "# plt.show()\n"
      ],
      "metadata": {
        "id": "tXJh3hjB0igL"
      },
      "execution_count": 1,
      "outputs": []
    },
    {
      "cell_type": "code",
      "source": [
        "## Do not edit this\n",
        "\n",
        "def initialization(qc,wavefunction,q_reg):\n",
        "\n",
        "    qc.initialize(wavefunction, q_reg)\n",
        "\n",
        "def apply_QFT(qc,q_reg):\n",
        "    qc.append(QFT(n),q_reg)\n",
        "\n",
        "\n",
        "def Time_Evolution(qc,n,q_reg,aux_reg):\n",
        "    # qc=QuantumCircuit(q_reg,aux_reg)\n",
        "    for i in range (n):\n",
        "        qc.p(phi/(2**(i+n-3)),q_reg[n-i-1])\n",
        "    for i in range (n):\n",
        "        for j in range (i+1,n):\n",
        "            qc.cx(q_reg[n-j-1], aux_reg[0])\n",
        "            qc.cx(q_reg[n-i-1], aux_reg[0])\n",
        "            qc.p(phi* (2**(2-i-j)), aux_reg[0])\n",
        "            qc.cx(q_reg[n-i-1], aux_reg[0])\n",
        "            qc.cx(q_reg[n-j-1], aux_reg[0])\n",
        "            # qc.barrier()\n",
        "    # qc.to_gate()\n",
        "\n",
        "\n",
        "def apply_invQFT(qc,q_reg):\n",
        "    qc.append(QFT(n,inverse=True),q_reg)\n",
        "\n",
        "\n",
        "def display_histogram(qc,q_reg,clas_reg,plot=False,hist=True):\n",
        "    qc.measure(q_reg,clas_reg)\n",
        "    keys = range(0,2**n)\n",
        "    counts= {key: 0 for key in keys}\n",
        "    qc_counts= Sampler().run(qc, shots=1024).result().quasi_dists[0]\n",
        "    for key, value in qc_counts.items():\n",
        "        if key in counts:\n",
        "            counts[key] = value*100\n",
        "    keys = list(counts.keys())\n",
        "    values = list(counts.values())\n",
        "    if plot:\n",
        "        plt.plot(keys,values)\n",
        "    if hist:\n",
        "        display(plot_histogram(counts,bar_labels=False))\n"
      ],
      "metadata": {
        "id": "kkiTq-jR0gDK"
      },
      "execution_count": null,
      "outputs": []
    },
    {
      "cell_type": "code",
      "source": [
        "phi = 0.3  # function of time step\n",
        "n=6\n",
        "q_reg=QuantumRegister(6)\n",
        "aux_reg=QuantumRegister(1)\n",
        "clas_reg = ClassicalRegister(6)\n",
        "qc=QuantumCircuit(aux_reg,q_reg,clas_reg)\n",
        "initialization(qc,wavefunction,q_reg)\n",
        "\n",
        "initial_qc=qc.copy()\n",
        "display_histogram(initial_qc,q_reg,clas_reg)\n",
        "\n"
      ],
      "metadata": {
        "colab": {
          "base_uri": "https://localhost:8080/",
          "height": 437
        },
        "id": "jYlicBFY0oRW",
        "outputId": "5750e52b-9fb2-4418-cbeb-99c99dc69277"
      },
      "execution_count": null,
      "outputs": [
        {
          "output_type": "display_data",
          "data": {
            "text/plain": [
              "<Figure size 640x480 with 1 Axes>"
            ],
            "image/png": "[encoded data removed]"
          },
          "metadata": {}
        }
      ]
    },
    {
      "cell_type": "markdown",
      "source": [
        "Exercise: Implement this equation\n",
        "$$U = QFT e^{-iT\\Delta t} QFT_{inv} $$\n",
        "\n",
        "We have functions for QFT, Kinetic Energy and inverse QFT:\n"
      ],
      "metadata": {
        "id": "amo4n8X6xcIo"
      }
    },
    {
      "cell_type": "code",
      "source": [
        "\n",
        "# write a code for first iteration: Initialization->QFT->KE operator->inverse QFT\n",
        "# initialization(qc,wavefunction,q_reg)\n",
        "\n",
        "\n",
        "qc.draw(fold=-1)\n",
        "# iter1=qc.copy()\n",
        "# display_histogram(iter1,q_reg,clas_reg)\n"
      ],
      "metadata": {
        "id": "M1OjFRFX0q39"
      },
      "execution_count": null,
      "outputs": []
    },
    {
      "cell_type": "code",
      "source": [
        "def evolve(iter,wavefunction,n=6,plot=True,hist=True):\n",
        "    phi = 0.3  # function of time step\n",
        "    q_reg=QuantumRegister(6)\n",
        "    aux_reg=QuantumRegister(1)\n",
        "    clas_reg = ClassicalRegister(6)\n",
        "    qc=QuantumCircuit(aux_reg,q_reg,clas_reg)\n",
        "    initialization(qc,wavefunction,q_reg)\n",
        "    i=0\n",
        "    snaps=[]\n",
        "    for i in range(iter):\n",
        "        apply_QFT(qc,q_reg)\n",
        "        Time_Evolution(qc,n,q_reg,aux_reg)\n",
        "        apply_invQFT(qc,q_reg)\n",
        "        if i%2==0:\n",
        "            snaps.append(qc.copy())\n",
        "        i=i+1\n",
        "    for snap in snaps:\n",
        "        display_histogram(snap,q_reg,clas_reg,plot=plot,hist=hist)\n",
        "\n",
        "\n",
        "evolve(iter=10,wavefunction=wavefunction)"
      ],
      "metadata": {
        "id": "BOBLQp0b0sz3"
      },
      "execution_count": null,
      "outputs": []
    },
    {
      "cell_type": "markdown",
      "source": [
        "Now lets work on a gaussian wavefunction with initial kinetic energy, which means a wave that is travelling forward\n",
        "\n",
        "$$\\psi(x,t_{0}) = \\frac{1}{\\sigma\\sqrt{2\\pi}} e^{-\\frac{1}{2}\\left(\\frac{x-x_{0}}{\\sigma}\\right)^{2}} e^{i\\hbar k_{0}x}$$"
      ],
      "metadata": {
        "id": "4kNtGaPxqOEF"
      }
    },
    {
      "cell_type": "code",
      "source": [
        "x = np.linspace(-4,4, num=64)\n",
        "\n",
        "\n",
        "\n",
        "'''wavefunction: guassian wavepacket with moving forward(+ve x axis) in time'''\n",
        "x0=-2.25\n",
        "hk=-3\n",
        "unnormalized_wavefunction=\n",
        "\n",
        "\n",
        "\n",
        "\n",
        "forward_wave =\n",
        "\n",
        "\n",
        "plt.plot(x,forward_wave)\n",
        "plt.show()"
      ],
      "metadata": {
        "id": "XGKM31Ki0vZt"
      },
      "execution_count": null,
      "outputs": []
    },
    {
      "cell_type": "code",
      "source": [
        "evolve(iter=10,wavefunction=forward_wave,plot=True,hist=False)"
      ],
      "metadata": {
        "id": "pSJsqj0M0zMp"
      },
      "execution_count": null,
      "outputs": []
    },
    {
      "cell_type": "code",
      "source": [],
      "metadata": {
        "id": "UzAHaLTM00tZ"
      },
      "execution_count": null,
      "outputs": []
    }
  ]
}