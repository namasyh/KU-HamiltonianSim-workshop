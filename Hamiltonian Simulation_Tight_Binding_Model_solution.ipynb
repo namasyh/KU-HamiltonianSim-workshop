{
  "cells": [
    {
      "cell_type": "code",
      "execution_count": 161,
      "metadata": {
        "id": "oSFGdh3Ko4wp"
      },
      "outputs": [],
      "source": [
        "# ### '''Installation'''\n",
        "# !pip install qiskit[visualization]==1.1.0\n",
        "# # Use the following if you are on MacOS/zsh\n",
        "# #!pip install 'qiskit[visualization]'==1.1.0\n",
        "# !pip install qiskit_aer\n",
        "# !pip install qiskit_ibm_runtime\n",
        "# !pip install matplotlib\n",
        "# !pip install pylatexenc\n",
        "# !pip install prototype-zne\n",
        "# !pip install tqdm\n",
        "# from IPython.display import clear_output\n",
        "# clear_output()"
      ]
    },
    {
      "cell_type": "code",
      "execution_count": 162,
      "metadata": {
        "id": "emg9m1vDorSm"
      },
      "outputs": [],
      "source": [
        "import numpy as np\n",
        "import matplotlib.pyplot as plt\n",
        "\n",
        "# Importing standard Qiskit libraries\n",
        "from qiskit import QuantumCircuit, QuantumRegister\n",
        "from qiskit.visualization import *\n",
        "from qiskit.circuit import Parameter\n",
        "import qiskit.quantum_info as qi\n",
        "from tqdm.notebook import tqdm\n",
        "\n",
        "# Suppress warnings\n",
        "import warnings\n",
        "warnings.filterwarnings('ignore')\n"
      ]
    },
    {
      "cell_type": "markdown",
      "metadata": {
        "id": "9PgY8jTOpaF1"
      },
      "source": [
        "# Tight-binding Model\n",
        "\n",
        "<!-- <div>\n",
        "<img src=\"attachment:tight-binding.png\" width=\"400\"/>\n",
        "</div> -->\n",
        "![tightbindingmodel](https://github.com/qiskit-community/ibm-quantum-spring-challenge-2022/blob/main/exercise1/resources/tight-binding.png?raw=true)\n",
        "\n",
        "The tight-binding model is a quantum mechanical picture used to describe the conductance of electrons in solid-state materials. In this model, each atom is treated as a lattice site and the particle needs energy $\\epsilon_i$ to occupy that site. The electron can tunnel from a site to its neighbors with an energy cost of $J$. The following Hamiltonian describes this model:\n",
        "\n",
        "$$H_{\\rm tb}/\\hbar = \\sum_i \\epsilon_i Z_i + J \\sum_{\\langle i,j \\rangle} (X_i X_j + Y_i Y_j)$$\n",
        "\n",
        "The first term in the Hamiltonian describes the on-site energy of each site, and the second term describes the interaction energy between neighboring lattice sites.\n",
        "\n",
        "The system Hamiltonian allows us to determine how the quantum state evolves with time. This time evolution is governed by the Schrodinger equation:\n",
        "\n",
        "$$ i \\hbar \\frac{\\partial}{\\partial t}|\\psi(t)\\rangle = H |\\psi(t)\\rangle $$\n",
        "\n",
        "In case of a time-independent Hamiltonian (a Hamiltonian that doesn't change with time), the solution to the Schrodinger equation will take the form below:\n",
        "\n",
        "$$ |\\psi(t)\\rangle = e^{-i H t / \\hbar} |\\psi(0)\\rangle $$\n",
        "\n",
        "We study the time dynamics under the tight-binding Hamiltonian, and construct a Trotterized circuit for its time evolution."
      ]
    },
    {
      "cell_type": "markdown",
      "metadata": {
        "id": "XU8jewbxqh-I"
      },
      "source": [
        "## 1. Time evolution under the tight-binding Hamiltonian\n",
        "\n",
        "First, let's consider time evolution under the tight-binding Hamiltonian with 3 sites. Here we'll set $J=1$, and $\\epsilon_i=0$ for a uniform lattice."
      ]
    },
    {
      "cell_type": "code",
      "execution_count": 163,
      "metadata": {
        "id": "yZViEwNro3tx"
      },
      "outputs": [],
      "source": [
        "# Import Pauli operators (I, X, Y, Z)\n",
        "from qiskit.quantum_info import Pauli\n",
        "\n",
        "J = 1\n",
        "I=Pauli('I')\n",
        "X=Pauli('X')\n",
        "Y=Pauli('Y')\n",
        "Z=Pauli('Z')\n",
        "\n",
        "# tight-binding Hamiltonian\n",
        "def H_tb():\n",
        "    # Interactions (I is the identity matrix; X and Y are Pauli matricies; ^ is a tensor product)\n",
        "    XXs = (I^X^X).to_matrix() + (X^X^I).to_matrix()\n",
        "    YYs = (I^Y^Y).to_matrix() + (Y^Y^I).to_matrix()\n",
        "\n",
        "    # Sum interactions\n",
        "    H = J*(XXs + YYs)\n",
        "\n",
        "    # Return Hamiltonian\n",
        "    return H"
      ]
    },
    {
      "cell_type": "code",
      "execution_count": 165,
      "metadata": {
        "id": "yg5tNeKsqrBg"
      },
      "outputs": [],
      "source": [
        "# Unitary evolution under the tight-binding Hamiltonian\n",
        "def U_tb(t):\n",
        "    H =np.exp(-1j*H_tb()*t)\n",
        "    Q, R = np.linalg.qr(H)\n",
        "\n",
        "    # Normalize Q to ensure it is unitary\n",
        "    Q = Q / np.linalg.norm(Q, axis=0)\n",
        "    \n",
        "    return UnitaryGate(Q)"
      ]
    },
    {
      "cell_type": "markdown",
      "metadata": {
        "id": "63c9rzK_roc-"
      },
      "source": [
        "We initialize the state of our system to $|100\\rangle$, and track the probabilities of the states $|100\\rangle, |010\\rangle, |001\\rangle$. These values correspond to the probability of finding the particle on each different site of our lattice."
      ]
    },
    {
      "cell_type": "markdown",
      "metadata": {
        "id": "2KK1jBn6s9UH"
      },
      "source": [
        "## 2. Trotterization\n",
        "\n",
        "To execute the unitary time evolution on a [circuit model](https://qiskit.org/documentation/apidoc/circuit.html) quantum computer, we must decompose $U_{\\text{tb}}(t)$ into a product of single and two-qubit gates that are native to the quantum computer. One method to accomplish this is [Trotterization](https://en.wikipedia.org/wiki/Hamiltonian_simulation#Product_Formulas), also refered to as Trotter-Suzuki decomposition.\n",
        "\n",
        "Below, we show an example Trotterization as outlined in \\[1-2\\].\n",
        "\n",
        "Since the [Pauli operators do not commute](https://en.wikipedia.org/wiki/Pauli_matrices#Commutation_relations) with each other, the exponential $U_{\\text{tb}}(t)$ cannot be split into a product of simpler exponentials. However, we can approximate $U_{\\text{tb}}(t)$ as a product of simpler exponentials through Trotterization. Consider a subsystem of 2 spin-1/2 particles within the larger 3 spin system. The Hamiltonian on spins $i$ and $j$ ($i,j \\in \\{0,1,2\\}$) would be $H^{(i,j)}_{\\text{tb}} = \\sigma_x^{(i)}\\sigma_x^{(j)} + \\sigma_y^{(i)}\\sigma_y^{(j)} + \\sigma_z^{(i)}\\sigma_z^{(j)}$. Rewritting $U_{\\text{tb}}(t)$ in terms of the two possible subsystems within the total $N=3$ system you will simulate,\n",
        "\n",
        "$$\n",
        "U_{\\text{tb}}(t) = \\exp\\left[-i t \\left(H^{(0,1)}_{\\text{tb}} + H^{(1,2)}_{\\text{tb}} \\right)\\right].\n",
        "$$\n",
        "\n",
        "$H^{(0,1)}_{\\text{tb}}$ and $H^{(1,2)}_{\\text{tb}}$ do not commute, so $U_{\\text{tb}}(t) \\neq \\exp\\left(-i t H^{(0,1)}_{\\text{tb}}\\right) \\exp\\left(-i t H^{(1,2)}_{\\text{tb}} \\right)$. But, this product decomposition can be approximated with Trotterization which says $U_{\\text{tb}}(t)$ is approximately a short evolution of $H^{(0,1)}_{\\text{tb}}$ (time = $t/n$) and followed by a short evolution of $H^{(1,2)}_{\\text{tb}}$ (time = $t/n$) repeated $n$ times\n",
        "\n",
        "$$\n",
        "\\begin{align}\n",
        "U_{\\text{tb}}(t) &= \\exp\\left[-i t \\left(H^{(0,1)}_{\\text{tb}} + H^{(1,2)}_{\\text{tb}} \\right)\\right] \\\\\n",
        "U_{\\text{tb}}(t) &\\approx \\left[\\exp\\left(\\dfrac{-it}{n}H^{(0,1)}_{\\text{tb}}\\right) \\exp\\left(\\dfrac{-it}{n}H^{(1,2)}_{\\text{tb}} \\right)\\right]^n.\n",
        "\\end{align}\n",
        "$$\n",
        "\n",
        "$n$ is the number of Trotter steps, and as $n$ increases, the approximation becomes more accurate. (Note that how the unitary operator is split up into subsystems for Trotterization is not necessarily unique.) The decomposition goes further. Within each 2 spin subsystems, the Pauli operator pairs ($\\sigma_x^{(i)}\\sigma_x^{(j)}$, $\\sigma_y^{(i)}\\sigma_y^{(j)}$, and $\\sigma_z^{(i)}\\sigma_z^{(j)}$) commute. This means we can decompose the exponential of a subsystem Hamiltonian ($H^{(i,j)}_{\\text{tb}}$) into a product of even simpler exponentials getting us closer to a gate implementation of $U_{\\text{tb}}(t)$\n",
        "\n",
        "$$\n",
        "\\begin{align}\n",
        "U_{\\text{tb}}(t) &\\approx \\left[\\exp\\left(\\dfrac{-it}{n}H^{(0,1)}_{\\text{tb}}\\right) \\exp\\left(\\dfrac{-it}{n}H^{(1,2)}_{\\text{tb}} \\right)\\right]^n \\\\\n",
        "U_{\\text{tb}}(t) &\\approx \\left[\\exp\\left(\\dfrac{-it}{n}\\left(\\sigma_x^{(0)}\\sigma_x^{(1)} + \\sigma_y^{(0)}\\sigma_y^{(1)} \\right)\\right) \\exp\\left(\\dfrac{-it}{n}\\left(\\sigma_x^{(1)}\\sigma_x^{(2)} + \\sigma_y^{(1)}\\sigma_y^{(2)} \\right)\\right)\\right]^{n} \\\\\n",
        "U_{\\text{tb}}(t) &\\approx \\left[\\exp\\left(\\dfrac{-it}{n}\\sigma_x^{(0)}\\sigma_x^{(1)}\\right) \\exp\\left(\\dfrac{-it}{n}\\sigma_y^{(0)}\\sigma_y^{(1)}\\right) \\exp\\left(\\dfrac{-it}{n}\\sigma_x^{(1)}\\sigma_x^{(2)}\\right) \\exp\\left(\\dfrac{-it}{n}\\sigma_y^{(1)}\\sigma_y^{(2)}\\right) \\right]^{n}\n",
        "\\end{align}\n",
        "$$\n",
        "\n",
        "For simplicity, and to use more common notation, let's rename the products with $XX(2t) = \\exp\\left(-it \\sigma_x\\sigma_x\\right)$, and $YY(2t) = \\exp\\left(-it \\sigma_y\\sigma_y\\right)$, and rewrite the Trotterized $U_{\\text{tb}}(t)$\n",
        "$$\n",
        "U_{\\text{tb}}(t) \\approx \\left[XX\\left(\\frac{2t}{n}\\right)^{(0,1)} YY\\left(\\frac{2t}{n}\\right)^{(0,1)}  XX\\left(\\frac{2t}{n}\\right)^{(1,2)} YY\\left(\\frac{2t}{n}\\right)^{(1,2)}\\right]^{n}\n",
        "$$\n",
        "And that's it! We have now approximately decomposed $U_{\\text{tb}}(t)$ into two-qubit gates $XX(t)$ and $YY(t)$. These gates are not native to superconducting qubits, but in Section 2, they will be further decomposed into native single and two-qubit gates with *further details found in the supplementary material.*\n",
        "\n",
        "\n",
        "\\[1\\] Y. Salathe, et al., *Digital Quantum Simulation of Spin Models with Circuit Quantum Electrodynamics*, [Phys. Rev. X **5**, 021027 (2015)](https://link.aps.org/doi/10.1103/PhysRevX.5.021027)\n",
        "\n",
        "\\[2\\] F. Tacchino, et al., *Quantum Computers as Universal Quantum Simulators: State-of-the-Art and Perspectives*, [Adv. Quantum Technol. *3* 3 (2020)](https://doi.org/10.1002/qute.201900052) \\[[free arxiv version](https://arxiv.org/abs/1907.03505)\\]\n"
      ]
    },
    {
      "cell_type": "markdown",
      "metadata": {
        "id": "8kBq3MiotE4B"
      },
      "source": [
        "### 2.1 Building the individual Pauli unitaries\n",
        "\n",
        "In this section we build ZZ(t), XX(t), and YY(t) operations using single- and two-qubit gates."
      ]
    },
    {
      "cell_type": "code",
      "execution_count": 166,
      "metadata": {
        "colab": {
          "base_uri": "https://localhost:8080/",
          "height": 94
        },
        "id": "gNItwbAfs-Pu",
        "outputId": "57f0ca62-c755-4871-91a3-6938d11dd7de"
      },
      "outputs": [
        {
          "data": {
            "text/html": [
              "<pre style=\"word-wrap: normal;white-space: pre;background: #fff0;line-height: 1.1;font-family: &quot;Courier New&quot;,Courier,monospace\">                            \n",
              "q51_0: ──■───────────────■──\n",
              "       ┌─┴─┐┌─────────┐┌─┴─┐\n",
              "q51_1: ┤ X ├┤ Rz(2*t) ├┤ X ├\n",
              "       └───┘└─────────┘└───┘</pre>"
            ],
            "text/plain": [
              "                            \n",
              "q51_0: ──■───────────────■──\n",
              "       ┌─┴─┐┌─────────┐┌─┴─┐\n",
              "q51_1: ┤ X ├┤ Rz(2*t) ├┤ X ├\n",
              "       └───┘└─────────┘└───┘"
            ]
          },
          "execution_count": 166,
          "metadata": {},
          "output_type": "execute_result"
        }
      ],
      "source": [
        "t = Parameter('t')\n",
        "# Build a subcircuit for ZZ(t) from single- and two-qubit gates\n",
        "\n",
        "ZZ_qr = QuantumRegister(2)\n",
        "ZZ_qc = QuantumCircuit(ZZ_qr, name='ZZ')\n",
        "\n",
        "ZZ_qc.cx(0,1)\n",
        "ZZ_qc.rz(2 * t, 1)\n",
        "ZZ_qc.cx(0,1)\n",
        "\n",
        "# Convert custom quantum circuit into a gate\n",
        "ZZ = ZZ_qc.to_instruction()\n",
        "\n",
        "ZZ_qc.draw()"
      ]
    },
    {
      "cell_type": "markdown",
      "metadata": {
        "id": "WlVtcTtotVGi"
      },
      "source": [
        "### 2.2 Clifford gates\n",
        "\n",
        "Clifford gates are quantum operators that map Pauli operators to other Pauli operators. The Hadamard gate ($H$) and the phase gate ($S$) are examples of single-qubit Clifford gates.\n",
        "\n",
        "$$H=\\frac{1}{\\sqrt{2}}\\begin{pmatrix} 1 & 1 \\\\1 & -1\\\\ \\end{pmatrix}$$\n",
        "\n",
        "$HZH^\\dagger=X$, and $HXH^\\dagger=Z$. Since the Hadamard gate is a Hermitian operator, $H=H^\\dagger$.\n",
        "\n",
        "$$S=\\begin{pmatrix} 1 & 0 \\\\0 & i\\\\ \\end{pmatrix}$$\n",
        "\n",
        "$SXS^\\dagger=Y$, and $SYS^\\dagger=-X$.\n",
        "\n",
        "Using the Clifford gates, we can transform the $e^{i ZZ t}$ to $e^{i XX t}$ and $e^{i YY t}$"
      ]
    },
    {
      "cell_type": "markdown",
      "metadata": {
        "id": "wacSJ7hitcSs"
      },
      "source": [
        "<div class=\"alert alert-block alert-danger\">\n",
        "    \n",
        "<b>Challenge question 1a</b>\n",
        "\n",
        "Build a subcircuit for XX(t) from single- and two-qubit gates\n",
        "    \n",
        "</div>"
      ]
    },
    {
      "cell_type": "code",
      "execution_count": 167,
      "metadata": {
        "colab": {
          "base_uri": "https://localhost:8080/",
          "height": 124
        },
        "id": "y97nznQZtJnn",
        "outputId": "f3df7f2a-3dff-4198-d09c-962e30fae82a"
      },
      "outputs": [
        {
          "data": {
            "text/html": [
              "<pre style=\"word-wrap: normal;white-space: pre;background: #fff0;line-height: 1.1;font-family: &quot;Courier New&quot;,Courier,monospace\">       ┌───┐┌────────┐┌───┐\n",
              "q52_0: ┤ H ├┤0       ├┤ H ├\n",
              "       ├───┤│  ZZ(t) │├───┤\n",
              "q52_1: ┤ H ├┤1       ├┤ H ├\n",
              "       └───┘└────────┘└───┘</pre>"
            ],
            "text/plain": [
              "       ┌───┐┌────────┐┌───┐\n",
              "q52_0: ┤ H ├┤0       ├┤ H ├\n",
              "       ├───┤│  ZZ(t) │├───┤\n",
              "q52_1: ┤ H ├┤1       ├┤ H ├\n",
              "       └───┘└────────┘└───┘"
            ]
          },
          "execution_count": 167,
          "metadata": {},
          "output_type": "execute_result"
        }
      ],
      "source": [
        "XX_qr = QuantumRegister(2)\n",
        "XX_qc = QuantumCircuit(XX_qr, name='XX')\n",
        "\n",
        "###EDIT CODE BELOW (add Clifford operator)\n",
        "\n",
        "###DO NOT EDIT BELOW\n",
        "\n",
        "# hadamard to rotate X into Z\n",
        "for q in range(len(XX_qc.qubits)):\n",
        "    XX_qc.h(q)\n",
        "    \n",
        "XX_qc.append(ZZ, [0,1])\n",
        "# hadamard to rotate Z back into X\n",
        "for q in range(len(XX_qc.qubits)):\n",
        "    XX_qc.h(q)\n",
        "\n",
        "###EDIT CODE BELOW (add Clifford operator)\n",
        "\n",
        "###DO NOT EDIT BELOW\n",
        "\n",
        "# Convert custom quantum circuit into a gate\n",
        "XX = XX_qc.to_instruction()\n",
        "\n",
        "XX_qc.draw()"
      ]
    },
    {
      "cell_type": "markdown",
      "metadata": {
        "id": "GmQvK-AOtt0N"
      },
      "source": [
        "<div class=\"alert alert-block alert-danger\">\n",
        "    \n",
        "<b>Challenge question 1b</b>\n",
        "\n",
        "Build a subcircuit for YY(t) from single- and two-qubit gates\n",
        "    \n",
        "</div>"
      ]
    },
    {
      "cell_type": "code",
      "execution_count": 168,
      "metadata": {
        "id": "hR18T9nYtS7w"
      },
      "outputs": [
        {
          "data": {
            "text/html": [
              "<pre style=\"word-wrap: normal;white-space: pre;background: #fff0;line-height: 1.1;font-family: &quot;Courier New&quot;,Courier,monospace\">       ┌───┐┌───┐┌────────┐┌───┐┌───┐\n",
              "q53_0: ┤ S ├┤ H ├┤0       ├┤ H ├┤ S ├\n",
              "       ├───┤├───┤│  ZZ(t) │├───┤├───┤\n",
              "q53_1: ┤ S ├┤ H ├┤1       ├┤ H ├┤ S ├\n",
              "       └───┘└───┘└────────┘└───┘└───┘</pre>"
            ],
            "text/plain": [
              "       ┌───┐┌───┐┌────────┐┌───┐┌───┐\n",
              "q53_0: ┤ S ├┤ H ├┤0       ├┤ H ├┤ S ├\n",
              "       ├───┤├───┤│  ZZ(t) │├───┤├───┤\n",
              "q53_1: ┤ S ├┤ H ├┤1       ├┤ H ├┤ S ├\n",
              "       └───┘└───┘└────────┘└───┘└───┘"
            ]
          },
          "execution_count": 168,
          "metadata": {},
          "output_type": "execute_result"
        }
      ],
      "source": [
        "\n",
        "YY_qr = QuantumRegister(2)\n",
        "YY_qc = QuantumCircuit(YY_qr, name='YY')\n",
        "\n",
        "###EDIT CODE BELOW (add Clifford operator)\n",
        "\n",
        "\n",
        "###DO NOT EDIT BELOW\n",
        "\n",
        "for q in range(len(YY_qc.qubits)):\n",
        "    YY_qc.s(q); # Z back into X\n",
        "    YY_qc.h(q); # X back into Y\n",
        "\n",
        "###DO NOT EDIT BELOW\n",
        "\n",
        "YY_qc.append(ZZ, [0,1])\n",
        "\n",
        "###EDIT CODE BELOW (add Clifford operator)\n",
        "for q in range(len(YY_qc.qubits)):\n",
        "    YY_qc.h(q); # Z back into X\n",
        "    YY_qc.s(q); # X back into Y\n",
        "\n",
        "###EDIT CODE BELOW (add Clifford operator)\n",
        "\n",
        "\n",
        "###DO NOT EDIT BELOW\n",
        "\n",
        "# Convert custom quantum circuit into a gate\n",
        "YY = YY_qc.to_instruction()\n",
        "\n",
        "YY_qc.draw()"
      ]
    },
    {
      "cell_type": "markdown",
      "metadata": {
        "id": "5qmJyBjXtyP4"
      },
      "source": [
        "### 2.3 Building the trotterizated circuit\n",
        "\n",
        "$X_iX_j$ and $Y_iY_j$ operators commute:\n",
        "\n",
        "$$[X_iX_j, Y_iY_j]= X_i X_j.Y_i Y_j - Y_i Y_j.X_i X_j = Z_i Z_j-(-Z_i)(-Z_j)=0 $$.\n",
        "\n",
        "Therefore, we can decompose $e^{i t (X_iX_j + Y_iY_j)}$ as $e^{i t X_iX_j} e^{i t Y_iY_j}$. \n",
        "\n",
        "Furthermore, if $i\\neq j \\neq k \\neq l$ then $[X_iX_j,X_kX_l]=0$. Based on this, we can decompose each trotterized evolution time step to two blocks:\n",
        "\n",
        "$$ U(\\Delta t) \\approx (\\prod_{i \\in odd} e^{-i \\Delta t X_iX_{i+1}} e^{-i \\Delta t Y_iY_{i+1}} )  (\\prod_{i \\in even} e^{-i \\Delta t X_iX_{i+1}} e^{-i \\Delta t Y_iY_{i+1}} ) $$"
      ]
    },
    {
      "cell_type": "code",
      "execution_count": 169,
      "metadata": {
        "colab": {
          "base_uri": "https://localhost:8080/",
          "height": 211
        },
        "id": "rQHt42cstyyG",
        "outputId": "fede5619-e18e-4b5c-f496-e85628ff0a6e"
      },
      "outputs": [
        {
          "data": {
            "text/html": [
              "<pre style=\"word-wrap: normal;white-space: pre;background: #fff0;line-height: 1.1;font-family: &quot;Courier New&quot;,Courier,monospace\">       ┌────────┐┌────────┐                    \n",
              "q54_0: ┤0       ├┤0       ├────────────────────\n",
              "       │  YY(t) ││  XX(t) │┌────────┐┌────────┐\n",
              "q54_1: ┤1       ├┤1       ├┤0       ├┤0       ├\n",
              "       └────────┘└────────┘│  YY(t) ││  XX(t) │\n",
              "q54_2: ────────────────────┤1       ├┤1       ├\n",
              "                           └────────┘└────────┘</pre>"
            ],
            "text/plain": [
              "       ┌────────┐┌────────┐                    \n",
              "q54_0: ┤0       ├┤0       ├────────────────────\n",
              "       │  YY(t) ││  XX(t) │┌────────┐┌────────┐\n",
              "q54_1: ┤1       ├┤1       ├┤0       ├┤0       ├\n",
              "       └────────┘└────────┘│  YY(t) ││  XX(t) │\n",
              "q54_2: ────────────────────┤1       ├┤1       ├\n",
              "                           └────────┘└────────┘"
            ]
          },
          "execution_count": 169,
          "metadata": {},
          "output_type": "execute_result"
        }
      ],
      "source": [
        "num_qubits = 3\n",
        "\n",
        "Trot_qr = QuantumRegister(num_qubits)\n",
        "Trot_qc = QuantumCircuit(Trot_qr, name='Trot')\n",
        "\n",
        "for i in range(0, num_qubits - 1):\n",
        "    Trot_qc.append(YY, [Trot_qr[i], Trot_qr[i+1]])\n",
        "    Trot_qc.append(XX, [Trot_qr[i], Trot_qr[i+1]])\n",
        "\n",
        "# Convert custom quantum circuit into a gate\n",
        "Trot_gate = Trot_qc.to_instruction()\n",
        "\n",
        "Trot_qc.draw()"
      ]
    },
    {
      "cell_type": "markdown",
      "metadata": {
        "id": "ge-kP8w5uLGC"
      },
      "source": [
        "<div class=\"alert alert-block alert-danger\">\n",
        "    \n",
        "<b>Challenge question 1c</b>\n",
        "\n",
        "Create the trotterized circuit and output the unitary associated with the circuit\n",
        "    \n",
        "</div>"
      ]
    },
    {
      "cell_type": "code",
      "execution_count": 170,
      "metadata": {
        "id": "KWYePuhruEOA"
      },
      "outputs": [],
      "source": [
        "\n",
        "def U_trotterize(t_target, trotter_steps):\n",
        "    qr = QuantumRegister(3)\n",
        "    qc = QuantumCircuit(qr)\n",
        "\n",
        "    ###EDIT CODE BELOW (Create the trotterized circuit with various number of trotter steps)\n",
        "    for i in range(trotter_steps):\n",
        "        qc.append(Trot_gate, list(range(3)))\n",
        "\n",
        "    ###DO NOT EDIT BELOW\n",
        "\n",
        "    qc = qc.assign_parameters({t: t_target/trotter_steps})\n",
        "\n",
        "    return qi.Operator(qc)"
      ]
    },
    {
      "cell_type": "code",
      "execution_count": 172,
      "metadata": {
        "id": "mQNjN73cuNM7"
      },
      "outputs": [
        {
          "data": {
            "image/png": "[encoded data removed]",
            "text/plain": [
              "<Figure size 640x480 with 1 Axes>"
            ]
          },
          "metadata": {},
          "output_type": "display_data"
        }
      ],
      "source": [
        "from qiskit.circuit.library import UnitaryGate\n",
        "t_target = 0.5\n",
        "U_target = UnitaryGate(U_tb(t_target))\n",
        "\n",
        "steps=np.arange(1,101,2)  ## DO NOT EDIT\n",
        "\n",
        "fidelities=[]\n",
        "for n in tqdm(steps):\n",
        "    U_trotter = U_trotterize(t_target, trotter_steps=n)\n",
        "    fidelity = qi.process_fidelity(U_trotter, target=U_target)\n",
        "    fidelities.append(fidelity)\n",
        "\n",
        "plt.figure(facecolor='white')\n",
        "plt.loglog(steps, 1-np.array(fidelities))\n",
        "plt.ylabel('Trotter error')\n",
        "plt.xlabel('Trotter steps')\n",
        "plt.show()"
      ]
    },
    {
      "cell_type": "code",
      "execution_count": null,
      "metadata": {},
      "outputs": [],
      "source": []
    }
  ],
  "metadata": {
    "colab": {
      "provenance": []
    },
    "kernelspec": {
      "display_name": "Python 3",
      "name": "python3"
    },
    "language_info": {
      "codemirror_mode": {
        "name": "ipython",
        "version": 3
      },
      "file_extension": ".py",
      "mimetype": "text/x-python",
      "name": "python",
      "nbconvert_exporter": "python",
      "pygments_lexer": "ipython3",
      "version": "3.12.4"
    }
  },
  "nbformat": 4,
  "nbformat_minor": 0
}
